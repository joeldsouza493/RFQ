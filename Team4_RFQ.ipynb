{
 "cells": [
  {
   "cell_type": "code",
   "execution_count": 1,
   "metadata": {},
   "outputs": [],
   "source": [
    "from __future__ import annotations\n",
    "\n",
    "from typing import Union, List, Tuple, Optional\n",
    "from dataclasses import dataclass\n",
    "\n",
    "import numpy as np\n",
    "import pandas as pd\n",
    "from sklearn.base import ClassifierMixin, BaseEstimator\n",
    "from sklearn.exceptions import NotFittedError\n",
    "from sklearn.utils import check_X_y, check_array\n",
    "from sklearn.utils.multiclass import type_of_target\n",
    "from scipy.special import betaln, gammaln, digamma\n",
    "import requests\n",
    "from matplotlib.colors import Colormap\n",
    "from sklearn.base import BaseEstimator\n",
    "from sklearn.preprocessing import LabelBinarizer\n",
    "from sklearn import preprocessing\n",
    "\n",
    "from sklearn.ensemble import RandomForestClassifier\n",
    "from sklearn.svm import LinearSVC\n",
    "from sklearn.linear_model import LogisticRegression\n",
    "from sklearn.preprocessing import StandardScaler\n",
    "from sklearn.pipeline import make_pipeline\n",
    "from sklearn.ensemble import GradientBoostingClassifier\n",
    "from sklearn.neural_network import MLPClassifier\n",
    "from sklearn.ensemble import StackingClassifier\n",
    "\n",
    "from sklearn.svm import LinearSVR\n",
    "from sklearn.ensemble import RandomForestRegressor\n",
    "from sklearn.ensemble import StackingRegressor\n",
    "from sklearn.linear_model import LinearRegression\n",
    "from sklearn.neighbors import KNeighborsRegressor\n",
    "from xgboost import XGBRegressor\n",
    "\n",
    "from sklearn.metrics import confusion_matrix"
   ]
  },
  {
   "cell_type": "code",
   "execution_count": 2,
   "metadata": {},
   "outputs": [],
   "source": [
    "\n",
    "ARRAY_OR_FLOAT = Union[np.ndarray, float]\n",
    "def multivariate_betaln(alphas: np.ndarray) -> ARRAY_OR_FLOAT:\n",
    "    if len(alphas) == 2:\n",
    "        return betaln(alphas[0], alphas[1])\n",
    "    else:\n",
    "        # see https://en.wikipedia.org/wiki/Beta_function#Multivariate_beta_function\n",
    "        return np.sum([gammaln(alpha) for alpha in alphas], axis=0) - gammaln(alphas.sum())\n",
    "\n",
    "\n",
    "def compute_log_p_data(\n",
    "        prior: np.ndarray,\n",
    "        k: Union[np.ndarray, float],\n",
    "        betaln_prior: float) -> Union[np.ndarray, float]:\n",
    "    # see https://www.cs.ubc.ca/~murphyk/Teaching/CS340-Fall06/reading/bernoulli.pdf, equation (42)\n",
    "    # which can be expressed as a fraction of beta functions\n",
    "    posterior = prior + k\n",
    "    return multivariate_betaln(posterior.T) - betaln_prior\n",
    "\n",
    "\n",
    "def d_log_multivariate_beta_d_alphas(alphas: np.ndarray) -> ARRAY_OR_FLOAT:\n",
    "    return digamma(alphas) - digamma(np.sum(alphas))\n",
    "\n",
    "\n",
    "def sigmoid(x: ARRAY_OR_FLOAT) -> ARRAY_OR_FLOAT:\n",
    "    # avoid underflow/overflow\n",
    "    LOW = -708\n",
    "    HIGH = 40\n",
    "\n",
    "    if np.isscalar(x):\n",
    "        return 1 if x > HIGH else 0 if x < LOW else 1 / (1 + np.exp(-x))\n",
    "    else:\n",
    "        lt_40 = x <= HIGH\n",
    "        gt_m708 = x >= LOW\n",
    "        if np.all(lt_40) and np.all(gt_m708):\n",
    "            return 1 / (1 + np.exp(-x))\n",
    "        else:\n",
    "            result = np.zeros(x.shape)\n",
    "            result[~lt_40] = 1\n",
    "            valid = np.where(lt_40 & gt_m708)[0]\n",
    "            result[valid] = 1 / (1 + np.exp(-x[valid]))\n",
    "            return result\n",
    "\n",
    "\n",
    "def pick_proportional(relative_probabilities: np.ndarray):\n",
    "    # from page 161 of\n",
    "    # https://github.com/Grant6899/books/blob/master/%5BMark%20Joshi%5DQuant%20Job%20Interview%20Questions%20And%20Answers.pdf\n",
    "    p = relative_probabilities / np.sum(relative_probabilities)\n",
    "    u = np.random.uniform(0, 1)\n",
    "    i = 0\n",
    "    while u > p[i]:\n",
    "        u -= p[i]\n",
    "        i += 1\n",
    "\n",
    "    return i"
   ]
  },
  {
   "cell_type": "code",
   "execution_count": 3,
   "metadata": {},
   "outputs": [],
   "source": [
    "\n",
    "# Adam optimizer settings (see https://arxiv.org/abs/1412.6980)\n",
    "BETA_1_ADAM = 0.9\n",
    "BETA_2_ADAM = 0.999\n",
    "EPS_ADAM = 1e-8\n",
    "\n",
    "\n",
    "# Note: The following three methods must adhere to the same node iteration order\n",
    "# in order to avoid weight vectors getting wrongly assigned to nodes:\n",
    "#\n",
    "# - _collect_weight_matrix\n",
    "# - _distribute_weight_matrix\n",
    "# - _compute_d_err_d_s_hat_and_collect_d_err_d_weights\n",
    "\n",
    "\n",
    "@dataclass\n",
    "class Node:\n",
    "    \"\"\"\n",
    "    A node in the adaptive Bayesian reticulum tree.\n",
    "    \"\"\"\n",
    "    level: int\n",
    "\n",
    "    left__child: Optional[Node] = None\n",
    "    right_child: Optional[Node] = None\n",
    "\n",
    "    weights: Optional[np.ndarray] = None\n",
    "\n",
    "    s: Optional[np.ndarray] = None\n",
    "    s_hat_left_: Optional[np.ndarray] = None\n",
    "    s_hat_right: Optional[np.ndarray] = None\n",
    "\n",
    "    k_left_: Optional[int] = None\n",
    "    k_right: Optional[int] = None\n",
    "\n",
    "    posterior_left_: Optional[np.ndarray] = None\n",
    "    posterior_right: Optional[np.ndarray] = None\n",
    "\n",
    "    log_p_data_left_: float = None\n",
    "    log_p_data_right: float = None\n",
    "\n",
    "    log_p_data_split = None\n",
    "    log_p_data_no_split = None\n",
    "\n",
    "    def try_fit(\n",
    "            self,\n",
    "            Xa: np.ndarray,\n",
    "            y: np.ndarray,\n",
    "            prior: np.ndarray,\n",
    "            s_hat_parent: Optional[np.ndarray],\n",
    "            learning_rate_init: float,\n",
    "            n_gradient_descent_steps: Optional[int],\n",
    "            initial_relative_stiffness: Optional[float]) -> bool:\n",
    "        if s_hat_parent is None:\n",
    "            n_data = Xa.shape[0]\n",
    "            s_hat_parent = np.ones(n_data)\n",
    "\n",
    "        # 1. initialize weights (if required)\n",
    "        if self.weights is not None:\n",
    "            # use weights that are already set on this node\n",
    "            initial_weights = self.weights\n",
    "        else:\n",
    "            # initialize by choosing a random weight vector\n",
    "            initial_weights = self._initialize_weights(\n",
    "                Xa=Xa,\n",
    "                s_hat_parent=s_hat_parent,\n",
    "                initial_relative_stiffness=initial_relative_stiffness)\n",
    "\n",
    "        if initial_weights is not None:\n",
    "            self.weights = initial_weights\n",
    "        else:\n",
    "            # no data that we could split\n",
    "            return False\n",
    "\n",
    "        # 2. optimize weights of newly added node using gradient descent (i.e., local optimization)\n",
    "        self._perform_gradient_descent(\n",
    "            Xa=Xa,\n",
    "            y=y,\n",
    "            s_hat_parent=s_hat_parent,\n",
    "            learning_rate_init=learning_rate_init,\n",
    "            n_gradient_descent_steps=n_gradient_descent_steps,\n",
    "            prior=prior)\n",
    "\n",
    "        # 3. compute log-likelihoods of not splitting vs. splitting\n",
    "        log_p_data_no_split = self._compute_log_p_data_no_split(y, s_hat_parent, prior)\n",
    "        self.update_log_p_data_soft_split(Xa, y, s_hat_parent, prior, recursive=False)\n",
    "        log_p_data_split = self.log_p_data_left_ + self.log_p_data_right\n",
    "\n",
    "        # keep and complete\n",
    "        self.posterior_left_ = prior + self.k_left_\n",
    "        self.posterior_right = prior + self.k_right\n",
    "        self.log_p_data_split = log_p_data_split\n",
    "        self.log_p_data_no_split = log_p_data_no_split\n",
    "\n",
    "        return True\n",
    "\n",
    "    def try_prune(\n",
    "            self,\n",
    "            Xa: np.ndarray,\n",
    "            y: np.ndarray,\n",
    "            prior: np.ndarray,\n",
    "            pruning_factor: float,\n",
    "            verbose: bool,\n",
    "            s_hat_parent: Optional[np.ndarray]=None) -> Tuple[bool, bool]:\n",
    "        any_child_pruned = False\n",
    "\n",
    "        # recursively try pruning children first because actual pruning must start at the leaf level\n",
    "        if self.left__child is not None:\n",
    "            left_child_pruned, any_child_of_left_child_pruned = self.left__child.try_prune(\n",
    "                Xa=Xa,\n",
    "                y=y,\n",
    "                prior=prior,\n",
    "                pruning_factor=pruning_factor,\n",
    "                verbose=verbose,\n",
    "                s_hat_parent=self.s_hat_left_)\n",
    "\n",
    "            if left_child_pruned:\n",
    "                self.left__child = None\n",
    "\n",
    "            any_child_pruned |= left_child_pruned\n",
    "            any_child_pruned |= any_child_of_left_child_pruned\n",
    "\n",
    "        if self.right_child is not None:\n",
    "            right_child_pruned, any_child_of_right_child_pruned = self.right_child.try_prune(\n",
    "                Xa=Xa,\n",
    "                y=y,\n",
    "                prior=prior,\n",
    "                pruning_factor=pruning_factor,\n",
    "                verbose=verbose,\n",
    "                s_hat_parent=self.s_hat_right)\n",
    "\n",
    "            if right_child_pruned:\n",
    "                self.right_child = None\n",
    "\n",
    "            any_child_pruned |= right_child_pruned\n",
    "            any_child_pruned |= any_child_of_right_child_pruned\n",
    "\n",
    "        # now try pruning this node if it has no children (either because it never had or because they just got pruned)\n",
    "        if self.left__child is None and self.right_child is None:\n",
    "            if s_hat_parent is None:\n",
    "                n_data = Xa.shape[0]\n",
    "                s_hat_parent = np.ones(n_data)\n",
    "\n",
    "            # check if this split is adding value\n",
    "            pruning_factor_for_level = pruning_factor**(self.level+1)\n",
    "            log_p_data_no_split = self._compute_log_p_data_no_split(y, s_hat_parent, prior)\n",
    "            log_p_data_split = self.log_p_data_left_ + self.log_p_data_right\n",
    "            if log_p_data_split <= log_p_data_no_split + np.log(pruning_factor_for_level):\n",
    "                # this split isn't adding value (anymore) -> prune\n",
    "                if verbose:\n",
    "                    print(f'Pruning node at level {self.level}')\n",
    "\n",
    "                return True, any_child_pruned\n",
    "\n",
    "        # check if this split is actually splitting data\n",
    "        activation = Xa @ self.weights\n",
    "        if np.all(activation < 0) or np.all(activation > 0):\n",
    "            # all data on one side -> not actually splitting anything\n",
    "            return True, any_child_pruned\n",
    "\n",
    "        return False, any_child_pruned\n",
    "\n",
    "    def update_probability(self, Xa: np.ndarray, p: np.ndarray) -> None:\n",
    "        if self.left__child is None:\n",
    "            p += self.s_hat_left_.reshape(-1, 1) @ self.predict_proba_leaf_left_().reshape(1, -1)\n",
    "        else:\n",
    "            self.left__child.update_probability(Xa, p)\n",
    "\n",
    "        if self.right_child is None:\n",
    "            p += self.s_hat_right.reshape(-1, 1) @ self.predict_proba_leaf_right().reshape(1, -1)\n",
    "        else:\n",
    "            self.right_child.update_probability(Xa, p)\n",
    "\n",
    "    def collect_terminal_nodes(self, is_left: bool, nodes: List[Node]=None) -> List[Node]:\n",
    "        if nodes is None:\n",
    "            nodes = []\n",
    "\n",
    "        if self.left__child:\n",
    "            self.left__child.collect_terminal_nodes(is_left, nodes)\n",
    "        elif is_left:\n",
    "            nodes.append(self)\n",
    "\n",
    "        if self.right_child:\n",
    "            self.right_child.collect_terminal_nodes(is_left, nodes)\n",
    "        elif not is_left:\n",
    "            nodes.append(self)\n",
    "\n",
    "        return nodes\n",
    "\n",
    "    @staticmethod\n",
    "    def _initialize_weights(\n",
    "            Xa: np.ndarray,\n",
    "            s_hat_parent: np.ndarray,\n",
    "            initial_relative_stiffness: float) -> Optional[np.ndarray]:\n",
    "        assert s_hat_parent.ndim == 1\n",
    "\n",
    "        n_dim = Xa.shape[1]-1  # ignore the augmented offset dimension\n",
    "\n",
    "        # remove data points that have a too low weight\n",
    "        keep_condition = s_hat_parent >= 0.5\n",
    "        Xa = Xa[keep_condition, :]\n",
    "        if len(Xa) < 2:\n",
    "            # no point in splitting data sets with less than two points\n",
    "            return None\n",
    "\n",
    "        # compute outlier-resistant data range and compute weight scaling\n",
    "        half_range = np.quantile(Xa[:, 1:], 0.75, axis=0) - np.quantile(Xa[:, 1:], 0.25, axis=0)\n",
    "        zeros = half_range == 0\n",
    "        if np.any(zeros):\n",
    "            # first fix for zero entries: use half of the full range\n",
    "            half_range[zeros] = (0.5 * (np.max(Xa[:, 1:], axis=0) - np.min(Xa[:, 1:], axis=0)))[zeros]\n",
    "\n",
    "        zeros = half_range == 0\n",
    "        if np.any(zeros):\n",
    "            # second fix for zero entries: use 1\n",
    "            half_range[zeros] = 1\n",
    "\n",
    "        sd = 1/half_range\n",
    "\n",
    "        # choose random initial weight appropriately scaled to the data\n",
    "        weights = np.random.normal(0, 1, n_dim)\n",
    "        weights /= np.linalg.norm(weights)\n",
    "        weights *= sd\n",
    "\n",
    "        # center the weight vector at the median of the data\n",
    "        median = np.median(Xa[:, 1:], axis=0)\n",
    "        weights = np.insert(weights, 0, 0)\n",
    "        weights[0] = -np.dot(median, weights[1:])\n",
    "\n",
    "        # apply initial stiffness\n",
    "        return weights * initial_relative_stiffness\n",
    "\n",
    "    def _perform_gradient_descent(\n",
    "            self,\n",
    "            Xa: np.ndarray,\n",
    "            y: np.ndarray,\n",
    "            s_hat_parent: np.ndarray,\n",
    "            learning_rate_init: float,\n",
    "            n_gradient_descent_steps: int,\n",
    "            prior: np.ndarray) -> None:\n",
    "        weight_matrix = self._collect_weight_matrix()\n",
    "        momentum = 0\n",
    "        velocity = 0\n",
    "\n",
    "        if hasattr(self, 'callback') and hasattr(self, 'root'):\n",
    "            self.callback('gd_start', self.root, self)\n",
    "\n",
    "        for i in range(n_gradient_descent_steps):\n",
    "            gradient = self._compute_d_err_d_weights(Xa=Xa, y=y, prior=prior, s_hat_parent=s_hat_parent)\n",
    "\n",
    "            momentum = BETA_1_ADAM * momentum + (1 - BETA_1_ADAM) * gradient\n",
    "            velocity = BETA_2_ADAM * velocity + (1 - BETA_2_ADAM) * gradient**2\n",
    "            momentum_hat = momentum/(1 - BETA_1_ADAM**(i + 1))\n",
    "            velocity_hat = velocity/(1 - BETA_2_ADAM**(i + 1))\n",
    "\n",
    "            weight_matrix -= learning_rate_init * momentum_hat / (np.sqrt(velocity_hat) + EPS_ADAM)\n",
    "            self._distribute_weight_matrix(weight_matrix)\n",
    "\n",
    "        if hasattr(self, 'callback') and hasattr(self, 'root'):\n",
    "            self.callback('gd_end', self.root, self)\n",
    "\n",
    "    def update_s_hat(\n",
    "            self, Xa: np.ndarray,\n",
    "            s_hat_parent: Optional[np.ndarray]=None) -> None:\n",
    "        if s_hat_parent is None:\n",
    "            n_data = Xa.shape[0]\n",
    "            s_hat_parent = np.ones(n_data)\n",
    "\n",
    "        # compute left and right node outputs\n",
    "        self.s = sigmoid(Xa @ self.weights)\n",
    "        self.s_hat_left_ = s_hat_parent * self.s\n",
    "        self.s_hat_right = s_hat_parent * (1-self.s)\n",
    "\n",
    "        # recursively call children\n",
    "        if self.left__child is not None:\n",
    "            self.left__child.update_s_hat(Xa, self.s_hat_left_)\n",
    "\n",
    "        if self.right_child is not None:\n",
    "            self.right_child.update_s_hat(Xa, self.s_hat_right)\n",
    "\n",
    "    def _compute_d_err_d_weights(\n",
    "            self,\n",
    "            Xa: np.ndarray,\n",
    "            y: np.ndarray,\n",
    "            prior: np.ndarray,\n",
    "            s_hat_parent: np.ndarray) -> np.ndarray:\n",
    "        # recursive forward pass\n",
    "        self.update_s_hat(Xa, s_hat_parent)\n",
    "\n",
    "        # recursive backward pass\n",
    "        class_idx = [y == i for i in range(len(np.unique(y)))]\n",
    "        d_k_d_s_hat = np.vstack([1*ci for ci in class_idx])\n",
    "\n",
    "        d_err_d_weights_list = []\n",
    "        self._compute_d_err_d_s_hat_and_collect_d_err_d_weights(\n",
    "            Xa, prior, s_hat_parent, class_idx, d_k_d_s_hat, d_err_d_weights_list)\n",
    "\n",
    "        return np.vstack(d_err_d_weights_list).T\n",
    "\n",
    "    def _compute_d_err_d_s_hat_and_collect_d_err_d_weights(\n",
    "            self,\n",
    "            Xa: np.ndarray,\n",
    "            prior: np.ndarray,\n",
    "            s_hat_parent: np.ndarray,\n",
    "            class_idx: List[np.ndarray],\n",
    "            d_k_d_s_hat: np.ndarray,\n",
    "            d_err_d_weights_list: List[np.ndarray]) -> np.ndarray:\n",
    "        # see node iteration order note at the top of this file\n",
    "\n",
    "        if self.left__child is None:\n",
    "            # leaf on the left\n",
    "            k_left_ = np.array([self.s_hat_left_[ci].sum() for ci in class_idx])\n",
    "            posterior_left_ = prior + k_left_\n",
    "            d_err_d_k_left_ = -d_log_multivariate_beta_d_alphas(posterior_left_)\n",
    "            d_err_d_s_hat_left_ = d_err_d_k_left_ @ d_k_d_s_hat\n",
    "        else:\n",
    "            # child node on the left\n",
    "            d_err_d_s_hat_left_ = self.left__child._compute_d_err_d_s_hat_and_collect_d_err_d_weights(\n",
    "                Xa=Xa,\n",
    "                prior=prior,\n",
    "                s_hat_parent=self.s_hat_left_,\n",
    "                class_idx=class_idx,\n",
    "                d_k_d_s_hat=d_k_d_s_hat,\n",
    "                d_err_d_weights_list=d_err_d_weights_list)\n",
    "\n",
    "        if self.right_child is None:\n",
    "            # leaf on the left\n",
    "            k_right = np.array([self.s_hat_right[ci].sum() for ci in class_idx])\n",
    "            posterior_right = prior + k_right\n",
    "            d_err_d_k_right = -d_log_multivariate_beta_d_alphas(posterior_right)\n",
    "            d_err_d_s_hat_right = d_err_d_k_right @ d_k_d_s_hat\n",
    "        else:\n",
    "            # child node on the left\n",
    "            d_err_d_s_hat_right = self.right_child._compute_d_err_d_s_hat_and_collect_d_err_d_weights(\n",
    "                Xa=Xa,\n",
    "                prior=prior,\n",
    "                s_hat_parent=self.s_hat_right,\n",
    "                class_idx=class_idx,\n",
    "                d_k_d_s_hat=d_k_d_s_hat,\n",
    "                d_err_d_weights_list=d_err_d_weights_list)\n",
    "\n",
    "        d_s_hat_left__ds = s_hat_parent\n",
    "        d_s_hat_right_ds = -s_hat_parent\n",
    "        d_err_d_s = d_err_d_s_hat_left_ * d_s_hat_left__ds + d_err_d_s_hat_right * d_s_hat_right_ds\n",
    "        d_err_d_s_hat_parent = d_err_d_s_hat_left_ * self.s + d_err_d_s_hat_right * (1-self.s)\n",
    "        d_s_d_a = self.s*(1-self.s)\n",
    "        d_err_d_weights = (d_err_d_s * d_s_d_a) @ Xa\n",
    "        d_err_d_weights_list.append(d_err_d_weights)\n",
    "\n",
    "        return d_err_d_s_hat_parent\n",
    "\n",
    "    def update_log_p_data_soft_split(\n",
    "            self,\n",
    "            Xa: np.ndarray,\n",
    "            y: np.ndarray,\n",
    "            s_hat_parent: np.ndarray,\n",
    "            prior: np.ndarray,\n",
    "            recursive: bool) -> None:\n",
    "        assert Xa.shape[0] == len(y)\n",
    "        assert s_hat_parent.ndim == 1\n",
    "\n",
    "        class_idx = [y == i for i in range(len(np.unique(y)))]\n",
    "\n",
    "        self.s = sigmoid(Xa @ self.weights)\n",
    "\n",
    "        self.s_hat_left_ = s_hat_parent * self.s\n",
    "        self.s_hat_right = s_hat_parent * (1 - self.s)\n",
    "\n",
    "        self.k_left_ = Node._compute_k(self.s_hat_left_, class_idx).T\n",
    "        self.k_right = Node._compute_k(self.s_hat_right, class_idx).T\n",
    "\n",
    "        betaln_prior = multivariate_betaln(prior)\n",
    "        self.log_p_data_left_ = compute_log_p_data(prior, self.k_left_, betaln_prior)\n",
    "        self.log_p_data_right = compute_log_p_data(prior, self.k_right, betaln_prior)\n",
    "\n",
    "        if recursive:\n",
    "            if self.left__child:\n",
    "                self.left__child.update_log_p_data_soft_split(Xa, y, self.s_hat_left_, prior, recursive)\n",
    "\n",
    "            if self.right_child:\n",
    "                self.right_child.update_log_p_data_soft_split(Xa, y, self.s_hat_right, prior, recursive)\n",
    "\n",
    "    @staticmethod\n",
    "    def _compute_log_p_data_no_split(\n",
    "            y: np.ndarray,\n",
    "            s_hat_parent: np.ndarray,\n",
    "            prior: np.ndarray) -> np.ndarray:\n",
    "        class_idx = [y == i for i in range(len(np.unique(y)))]\n",
    "        k = Node._compute_k(s_hat_parent, class_idx).T\n",
    "        betaln_prior = multivariate_betaln(prior)\n",
    "        return compute_log_p_data(prior, k, betaln_prior)\n",
    "\n",
    "    @staticmethod\n",
    "    def _compute_k(s_hat: np.ndarray, class_idx: List[np.array]) -> np.ndarray:\n",
    "        return np.array([s_hat[ci].sum(axis=0) for ci in class_idx])\n",
    "\n",
    "    def _collect_weight_matrix(self, weights_list: List[np.ndarray]=None) -> Optional[np.ndarray]:\n",
    "        # see node iteration order note at the top of this file\n",
    "\n",
    "        if weights_list is None:\n",
    "            weights_list = []\n",
    "            return_matrix = True\n",
    "        else:\n",
    "            return_matrix = False\n",
    "\n",
    "        if self.left__child is not None:\n",
    "            self.left__child._collect_weight_matrix(weights_list)\n",
    "\n",
    "        if self.right_child is not None:\n",
    "            self.right_child._collect_weight_matrix(weights_list)\n",
    "\n",
    "        weights_list.append(self.weights)\n",
    "\n",
    "        if return_matrix:\n",
    "            return np.array(weights_list).T\n",
    "\n",
    "    def _distribute_weight_matrix(self, weight_matrix: np.ndarray, index: Optional[int]=None) -> int:\n",
    "        # see node iteration order note at the top of this file\n",
    "\n",
    "        if index is None:\n",
    "            index = 0\n",
    "\n",
    "        if self.left__child is not None:\n",
    "            index = self.left__child._distribute_weight_matrix(weight_matrix, index)\n",
    "\n",
    "        if self.right_child is not None:\n",
    "            index = self.right_child._distribute_weight_matrix(weight_matrix, index)\n",
    "\n",
    "        self.weights = weight_matrix[:, index]\n",
    "        index += 1\n",
    "\n",
    "        # now that the weights have changed the node is potentially splittable once again\n",
    "        self.left__is_splittable = True\n",
    "        self.right_is_splittable = True\n",
    "\n",
    "        return index\n",
    "\n",
    "    def update_depth(self, depth: int) -> int:\n",
    "        depth = max(depth, self.level+1)\n",
    "\n",
    "        if self.left__child is not None:\n",
    "            depth = self.left__child.update_depth(depth)\n",
    "\n",
    "        if self.right_child is not None:\n",
    "            depth = self.right_child.update_depth(depth)\n",
    "\n",
    "        return depth\n",
    "\n",
    "    def update_n_leaves(self, n_leaves: int) -> int:\n",
    "        if self.left__child is None:\n",
    "            n_leaves += 1\n",
    "        else:\n",
    "            n_leaves = self.left__child.update_n_leaves(n_leaves)\n",
    "\n",
    "        if self.right_child is None:\n",
    "            n_leaves += 1\n",
    "        else:\n",
    "            n_leaves = self.right_child.update_n_leaves(n_leaves)\n",
    "\n",
    "        return n_leaves\n",
    "\n",
    "    def update_feature_importance(self, feature_importance: np.ndarray) -> None:\n",
    "        # the more the normal vector is oriented along a given dimension's axis the\n",
    "        # more important that dimension is, so weight the gain in log-likelihood by\n",
    "        # the absolute value of the unit hyperplane normal\n",
    "        log_p_gain = self.log_p_data_split - self.log_p_data_no_split\n",
    "        hyperplane_normal = self.weights[1:] / np.linalg.norm(self.weights[1:])\n",
    "        feature_importance += log_p_gain * np.abs(hyperplane_normal)\n",
    "\n",
    "        if self.left__child is not None:\n",
    "            self.left__child.update_feature_importance(feature_importance)\n",
    "\n",
    "        if self.right_child is not None:\n",
    "            self.right_child.update_feature_importance(feature_importance)\n",
    "\n",
    "    def predict_proba_leaf_left_(self) -> np.ndarray:\n",
    "        if self.posterior_left_ is None:\n",
    "            return np.nan\n",
    "\n",
    "        return self.posterior_left_ / self.posterior_left_.sum()\n",
    "\n",
    "    def predict_proba_leaf_right(self) -> np.ndarray:\n",
    "        if self.posterior_right is None:\n",
    "            return np.nan\n",
    "\n",
    "        return self.posterior_right / self.posterior_right.sum()\n",
    "\n",
    "    def get_n_data(self) -> float:\n",
    "        return self.k_left_.sum() + self.k_right.sum()\n",
    "\n",
    "    def __str__(self) -> str:\n",
    "        return self._str('', '')\n",
    "\n",
    "    def _str(self, prefix: str, children_prefix: str) -> str:\n",
    "        s = prefix\n",
    "\n",
    "        # choose hyperplane origin to be the closest point to the origin\n",
    "        weights = self.weights\n",
    "        normal = weights[1:]\n",
    "        origin = normal * -weights[0] / np.dot(normal, normal)\n",
    "        origin_str = np.array2string(origin, max_line_width=9999, separator=', ', floatmode='maxprec_equal')\n",
    "        normal_str = np.array2string(normal, max_line_width=9999, separator=', ', floatmode='maxprec_equal')\n",
    "        s += f'origin={origin_str}, normal={normal_str}'\n",
    "        s += '\\n'\n",
    "\n",
    "        child_prefix_left_ = children_prefix + '├─ left: '\n",
    "        child_prefix_right = children_prefix + '└─ right:'\n",
    "        if self.left__child is not None:\n",
    "            s += self.left__child._str(child_prefix_left_, children_prefix + '│  ')\n",
    "        else:\n",
    "            s += f'{child_prefix_left_} p(y)={self.predict_proba_leaf_left_()}, n={self.k_left_.sum()}\\n'\n",
    "\n",
    "        if self.right_child is not None:\n",
    "            s += self.right_child._str(child_prefix_right, children_prefix + '   ')\n",
    "        else:\n",
    "            s += f'{child_prefix_right} p(y)={self.predict_proba_leaf_right()}, n={self.k_right.sum()}\\n'\n",
    "\n",
    "        return s\n"
   ]
  },
  {
   "cell_type": "code",
   "execution_count": 4,
   "metadata": {},
   "outputs": [],
   "source": [
    "# types\n",
    "INPUT = Union[np.ndarray, pd.DataFrame, List[List[float]]]\n",
    "TARGET = Union[np.ndarray, List[float]]\n",
    "\n",
    "\n",
    "class AdaptiveBayesianReticulum(BaseEstimator, ClassifierMixin):\n",
    "    \"\"\"\n",
    "    The Adaptive Bayesian Reticulum classification model for binary and\n",
    "    multiclass classification.\n",
    "\n",
    "    Parameters\n",
    "    ----------\n",
    "\n",
    "    prior : tuple, shape = [n_classes], optional, default=(number of instances of each class divided by 20)\n",
    "        The hyperparameters (alpha_0, alpha_1, ..., alpha_[N-1]) of the Dirichlet\n",
    "        conjugate prior, see [1] and [2]. All alpha_i must be positive, where\n",
    "        alpha_i represents the number of prior pseudo-observations of class i.\n",
    "        Defaults to 1/20 times the number of observations in each class, i.e.,\n",
    "        5 % prior strength. If the problem is binary classification then the\n",
    "        theDirichlet distribution collapses to a Beta distribution with an\n",
    "        (alpha, beta) prior.\n",
    "\n",
    "    pruning_factor : float, optional, default=1.05\n",
    "        The factor by which the log likelihood of a split has to be larger than\n",
    "        the log likelihood of no split in order to keep the split during the\n",
    "        pruning stage. Larger values lead to more aggressive pruning and may\n",
    "        lead to underfitting, while small values encourage model complexity and\n",
    "        may lead to overfitting. The value provided must be >= 1.\n",
    "\n",
    "    n_iter : int, default=50\n",
    "        The number of attempts to add new nodes by splitting\n",
    "        existing ones. The resulting tree will at most contain n_iter nodes, but\n",
    "        it may contain less due to pruning. Larger values lead to\n",
    "        more complex and expressive models at the cost of potentially overfitting\n",
    "        and slower training performance, while smaller values restrict model\n",
    "        complexity and training time but can lead to underfitting.\n",
    "\n",
    "    learning_rate_init : float, optional, default=1e-4\n",
    "        The initial gradient descent learning rate. We use the adaptive 'Adam'\n",
    "        gradient descent method, see [3] and [4].\n",
    "\n",
    "    n_gradient_descent_steps : int, optional, default=100\n",
    "        The number of gradient descent steps to perform in each iteration. Half\n",
    "        of the steps will perform local gradient descent on only the newly added\n",
    "        node and half will be applied during global gradient descent involving\n",
    "        the whole tree.\n",
    "\n",
    "    initial_relative_stiffness : float\n",
    "        The initial stiffness of the problem, see the paper for an explanation of\n",
    "        'stiffness'. Small values (0.1...5) represent \"soft\" splits allowing for\n",
    "        further optimization through gradient descent whereas large values (> 20)\n",
    "        effectively disable further progress through gradient descent because\n",
    "        the split is already close to a Heaviside step function with almost zero\n",
    "        gradients almost everywhere. While this sounds like a disadvantage it can\n",
    "        actually be advantageous to model performance if the data has a complex\n",
    "        structure that soft splits don't capture well.\n",
    "\n",
    "    random_state : int, default=666\n",
    "        The initial random state to be set in numpy.random.seed().\n",
    "\n",
    "    References\n",
    "    ----------\n",
    "\n",
    "    .. [1] https://en.wikipedia.org/wiki/Dirichlet_distribution#Conjugate_to_categorical/multinomial\n",
    "    .. [2] https://en.wikipedia.org/wiki/Conjugate_prior#Discrete_distributions\n",
    "    .. [3] https://arxiv.org/abs/1412.6980\n",
    "    .. [4] https://ruder.io/optimizing-gradient-descent/\n",
    "    \"\"\"\n",
    "    def __init__(\n",
    "            self,\n",
    "            prior: Optional[Tuple[float, ...]]=None,\n",
    "            pruning_factor: float=1.05,\n",
    "            n_iter: int=50,\n",
    "            learning_rate_init: float=1e-4,\n",
    "            n_gradient_descent_steps: int=100,\n",
    "            initial_relative_stiffness: float=10,\n",
    "            random_state: int=666) -> None:\n",
    "        self.prior = prior\n",
    "        self.pruning_factor = pruning_factor\n",
    "        self.n_iter = n_iter\n",
    "        self.learning_rate_init = learning_rate_init\n",
    "        self.n_gradient_descent_steps = n_gradient_descent_steps\n",
    "        self.initial_relative_stiffness = initial_relative_stiffness\n",
    "        self.random_state = random_state\n",
    "\n",
    "    def fit(\n",
    "            self,\n",
    "            X: INPUT,\n",
    "            y: TARGET,\n",
    "            verbose: bool=False) -> AdaptiveBayesianReticulum:\n",
    "        \"\"\"\n",
    "        Trains this Adaptive Bayesian Reticulum classification model using the training set (X, y).\n",
    "\n",
    "        Parameters\n",
    "        ----------\n",
    "        X : array-like or pandas.DataFrame, shape = [n_samples, n_features]\n",
    "            The training input samples.\n",
    "\n",
    "        y : array-like, shape = [n_samples]\n",
    "            The target values. Only the integers 0 and 1 are permitted.\n",
    "\n",
    "        verbose : bool\n",
    "            Prints training progress statements to the standard output.\n",
    "        \"\"\"\n",
    "\n",
    "        # validation and input transformation\n",
    "        X, y = check_X_y(X, y)\n",
    "        if type_of_target(y) not in ('binary', 'multiclass'):\n",
    "            raise ValueError(f'Unknown label type: {type_of_target(y)}')\n",
    "\n",
    "        y_universe, y_encoded = np.unique(y, return_inverse=True)\n",
    "        if not np.all(y == y_encoded):\n",
    "            y = y_encoded\n",
    "            self.classes_ = y_universe\n",
    "        else:\n",
    "            self.classes_ = None\n",
    "\n",
    "        y = self._ensure_float64(y)\n",
    "\n",
    "        unique = np.unique(y)\n",
    "\n",
    "        prior = self.prior\n",
    "        if prior is None:\n",
    "            prior = [len(np.where(y == yi)[0])/20 for yi in unique]\n",
    "\n",
    "        prior = np.asarray(prior)\n",
    "\n",
    "        n_classes = len(prior)\n",
    "        if len(unique) == 1:\n",
    "            raise ValueError('Classifier can\\'t train when only one class is present.')\n",
    "\n",
    "        if not np.all(unique == np.arange(0, n_classes)):\n",
    "            raise ValueError(f'Expected target values 0..{n_classes-1} but found {y.min()}..{y.max()}')\n",
    "\n",
    "        X = self._normalize_data(X)\n",
    "        n_data = X.shape[0]\n",
    "        assert n_data > 1\n",
    "\n",
    "        self.n_dim_ = X.shape[1]\n",
    "        if self.n_dim_ < 2:\n",
    "            raise ValueError(f'X has {self.n_dim_} feature(s) (shape={X.shape}) while a minimum of 2 is required.')\n",
    "\n",
    "        if n_data != len(y):\n",
    "            raise ValueError(f'Invalid shapes: X={X.shape}, y={y.shape}')\n",
    "\n",
    "        if self.pruning_factor < 1:\n",
    "            raise ValueError('The pruning_factor must be >= 1')\n",
    "\n",
    "        # initialize\n",
    "        np.random.seed(self.random_state)\n",
    "\n",
    "        n_gradient_descent_steps_local = self.n_gradient_descent_steps//2\n",
    "        n_gradient_descent_steps_global = self.n_gradient_descent_steps//2\n",
    "\n",
    "        # augment data matrix with a row of 1's corresponding to the bias/offset\n",
    "        Xa = np.hstack([np.ones((n_data, 1)), X])    # [n * n_dim'] (where n_dim' = n_dim+1 for the bias)\n",
    "\n",
    "        # create root node and train recursively\n",
    "        if verbose:\n",
    "            print(f'Creating root node at level=0, n_data={n_data}')\n",
    "\n",
    "        root = Node(level=0)\n",
    "\n",
    "        if hasattr(self, 'callback'):\n",
    "            root.root = root\n",
    "            root.callback = self.callback\n",
    "\n",
    "        # fit\n",
    "        root.try_fit(\n",
    "            Xa=Xa,\n",
    "            y=y,\n",
    "            prior=prior,\n",
    "            s_hat_parent=None,\n",
    "            learning_rate_init=self.learning_rate_init,\n",
    "            n_gradient_descent_steps=n_gradient_descent_steps_local,\n",
    "            initial_relative_stiffness=self.initial_relative_stiffness)\n",
    "\n",
    "        # grow tree\n",
    "        overall_proba = None  # type: Optional[np.ndarray]\n",
    "        for k in range(self.n_iter):\n",
    "            # determine terminal nodes\n",
    "            terminal_nodes_left_ = root.collect_terminal_nodes(is_left=True)\n",
    "            terminal_nodes_right = root.collect_terminal_nodes(is_left=False)\n",
    "\n",
    "            # get log-likelihood of all leaves, see 'unexplained potential' in the paper\n",
    "            log_p_data_left_ = np.array([node.log_p_data_left_ for node in terminal_nodes_left_])\n",
    "            log_p_data_right = np.array([node.log_p_data_right for node in terminal_nodes_right])\n",
    "\n",
    "            # choose node to split from all terminal nodes proportional to their (absolute) log-likelihood\n",
    "            relative_probabilities = np.concatenate([log_p_data_left_, log_p_data_right])\n",
    "            idx = pick_proportional(relative_probabilities)\n",
    "            if idx < len(terminal_nodes_left_):\n",
    "                node_to_split = terminal_nodes_left_[idx]\n",
    "                split_left = True\n",
    "            else:\n",
    "                node_to_split = terminal_nodes_right[idx - len(terminal_nodes_left_)]\n",
    "                split_left = False\n",
    "\n",
    "            # create new node\n",
    "            new_node = Node(level=1+node_to_split.level)\n",
    "            if split_left:\n",
    "                node_to_split.left__child = new_node\n",
    "            else:\n",
    "                node_to_split.right_child = new_node\n",
    "\n",
    "            if hasattr(self, 'callback'):\n",
    "                new_node.callback = self.callback\n",
    "                new_node.root = root\n",
    "\n",
    "            if verbose:\n",
    "                n_data = node_to_split.get_n_data()\n",
    "                child_side = 'left ' if split_left else 'right'\n",
    "                print(f'Splitting {child_side} child of node at level={node_to_split.level}, n_data={n_data:.2f}')\n",
    "\n",
    "            # try to fit the new node\n",
    "            is_fitted = new_node.try_fit(\n",
    "                Xa=Xa,\n",
    "                y=y,\n",
    "                prior=prior,\n",
    "                s_hat_parent=node_to_split.s_hat_left_ if split_left else node_to_split.s_hat_right,\n",
    "                learning_rate_init=self.learning_rate_init,\n",
    "                n_gradient_descent_steps=n_gradient_descent_steps_local,\n",
    "                initial_relative_stiffness=self.initial_relative_stiffness)\n",
    "\n",
    "            # check if new node is sensible\n",
    "            if is_fitted:\n",
    "                # keep node and perform global optimization\n",
    "                root.try_fit(\n",
    "                    Xa=Xa,\n",
    "                    y=y,\n",
    "                    prior=prior,\n",
    "                    s_hat_parent=None,\n",
    "                    learning_rate_init=self.learning_rate_init,\n",
    "                    n_gradient_descent_steps=n_gradient_descent_steps_global,\n",
    "                    initial_relative_stiffness=self.initial_relative_stiffness)\n",
    "\n",
    "                # prune splits that aren't sensible anymore\n",
    "                root_pruned, any_pruned = root.try_prune(\n",
    "                    Xa=Xa,\n",
    "                    y=y,\n",
    "                    prior=prior,\n",
    "                    pruning_factor=self.pruning_factor,\n",
    "                    verbose=verbose)\n",
    "\n",
    "                if hasattr(self, 'callback') and (root_pruned or any_pruned):\n",
    "                    self.callback('prune', root, self)\n",
    "\n",
    "                if root_pruned:\n",
    "                    if verbose:\n",
    "                        print('Pruned root node, no split left')\n",
    "\n",
    "                    root = None\n",
    "                    _, counts = np.unique(y, return_counts=True)\n",
    "                    overall_proba = counts/len(y)\n",
    "                    break\n",
    "            else:\n",
    "                # discard new node\n",
    "                if split_left:\n",
    "                    node_to_split.left__child = None\n",
    "                else:\n",
    "                    node_to_split.right_child = None\n",
    "\n",
    "        self.root_ = root\n",
    "        if overall_proba is not None:\n",
    "            self.overall_proba_ = overall_proba\n",
    "\n",
    "        return self\n",
    "\n",
    "    def predict(self, X: INPUT) -> np.ndarray:\n",
    "        \"\"\"Predicts the class labels for each input in X.\n",
    "\n",
    "        Parameters\n",
    "        ----------\n",
    "        X : array-like or pandas.DataFrame, shape = [n_samples, n_features]\n",
    "            The input data.\n",
    "\n",
    "        Returns\n",
    "        -------\n",
    "        y : array, shape = [n_samples]\n",
    "            The predicted classes.\n",
    "        \"\"\"\n",
    "\n",
    "        return self._predict(X, predict_class=True)\n",
    "\n",
    "    def predict_proba(self, X: INPUT) -> np.ndarray:\n",
    "        \"\"\"Predict class probabilities of the input samples X.\n",
    "\n",
    "        Parameters\n",
    "        ----------\n",
    "        X : array-like or pandas.DataFrame, shape = [n_samples, n_features]\n",
    "            The input data.\n",
    "\n",
    "        Returns\n",
    "        -------\n",
    "        p : array, shape = [n_samples, n_classes]\n",
    "            The predicted class probabilities.\n",
    "        \"\"\"\n",
    "\n",
    "        return self._predict(X, predict_class=False)\n",
    "\n",
    "    def _predict(self, X: INPUT, predict_class: bool) -> np.ndarray:\n",
    "        # input transformation and checks\n",
    "        X = check_array(X)  # type: np.ndarray\n",
    "        X = self._normalize_data(X)\n",
    "        self._ensure_is_fitted_and_valid(X)\n",
    "\n",
    "        Xa = np.hstack([np.ones((X.shape[0], 1)), X])\n",
    "        n_data = Xa.shape[0]\n",
    "\n",
    "        if self.root_ is None:\n",
    "            if predict_class:\n",
    "                return np.argmax(self.overall_proba_) * np.ones(n_data)\n",
    "            else:\n",
    "                return self.overall_proba_ * np.ones((n_data, len(self.overall_proba_)))\n",
    "\n",
    "        self.root_.update_s_hat(Xa)\n",
    "        n_classes = len(self.root_.posterior_left_)\n",
    "        p = np.zeros((n_data, n_classes))\n",
    "        self.root_.update_probability(Xa, p)\n",
    "\n",
    "        assert np.all((p >= 0) & (p <= 1))\n",
    "        if predict_class:\n",
    "            cls = np.argmax(p, axis=1)\n",
    "            return cls if self.classes_ is None else self.classes_[cls]\n",
    "        else:\n",
    "            return p\n",
    "\n",
    "    def get_depth(self) -> int:\n",
    "        \"\"\"Computes and returns the tree depth.\n",
    "\n",
    "        Returns\n",
    "        -------\n",
    "        depth : int\n",
    "            The tree depth.\n",
    "        \"\"\"\n",
    "\n",
    "        if not self._is_fitted() or self.root_ is None:\n",
    "            return 0\n",
    "\n",
    "        return self.root_.update_depth(0)\n",
    "\n",
    "    def get_n_leaves(self) -> int:\n",
    "        \"\"\"Computes and returns the total number of leaves of this tree.\n",
    "\n",
    "        Returns\n",
    "        -------\n",
    "        n_leaves : int\n",
    "            The number of leaves.\n",
    "        \"\"\"\n",
    "\n",
    "        if not self._is_fitted() or self.root_ is None:\n",
    "            return 0\n",
    "\n",
    "        return self.root_.update_n_leaves(0)\n",
    "\n",
    "    def feature_importance(self) -> np.ndarray:\n",
    "        \"\"\"Computes and returns the relative importance of the feature dimensions.\n",
    "\n",
    "        Returns\n",
    "        -------\n",
    "        feature_importance : array, shape = [number of features/dimensions]\n",
    "            The relative importance of each feature dimension.\n",
    "        \"\"\"\n",
    "\n",
    "        self._ensure_is_fitted_and_valid()\n",
    "\n",
    "        feature_importance = np.zeros(self.n_dim_)\n",
    "        self.root_.update_feature_importance(feature_importance)\n",
    "        feature_importance /= feature_importance.sum()\n",
    "\n",
    "        return feature_importance\n",
    "\n",
    "    @staticmethod\n",
    "    def _normalize_data(X: INPUT) -> np.ndarray:\n",
    "        if isinstance(X, pd.DataFrame):\n",
    "            X = X.values\n",
    "        else:\n",
    "            if isinstance(X, list):\n",
    "                X = np.array(X)\n",
    "            elif np.isscalar(X):\n",
    "                X = np.array([X])\n",
    "\n",
    "            if X.ndim == 1:\n",
    "                X = np.expand_dims(X, 0)\n",
    "\n",
    "        X = AdaptiveBayesianReticulum._ensure_float64(X)\n",
    "\n",
    "        if X.ndim != 2:\n",
    "            raise ValueError(f'X should have 2 dimensions but has {X.ndim}')\n",
    "\n",
    "        return X\n",
    "\n",
    "    def _ensure_is_fitted_and_valid(self, X: np.ndarray=None) -> None:\n",
    "        if not self._is_fitted():\n",
    "            raise NotFittedError('Cannot predict on an untrained model; call .fit() first')\n",
    "\n",
    "        if X is not None and X.shape[1] != self.n_dim_:\n",
    "            raise ValueError(f'Bad input dimensions: Expected {self.n_dim_}, got {X.shape[1]}')\n",
    "\n",
    "    def _is_fitted(self) -> bool:\n",
    "        return hasattr(self, 'root_')\n",
    "\n",
    "    @staticmethod\n",
    "    def _ensure_float64(data: np.ndarray) -> np.ndarray:\n",
    "        # check data types\n",
    "        if data.dtype in (\n",
    "                np.int8, np.int16, np.int32, np.int64,\n",
    "                np.uint8, np.uint16, np.uint32, np.uint64,\n",
    "                np.float32, np.float64):\n",
    "            return data\n",
    "\n",
    "        # check that data isn't complex\n",
    "        if np.any(np.iscomplex(data)):\n",
    "            raise ValueError('Complex data not supported')\n",
    "\n",
    "        # convert to np.float64 for performance reasons (matrices with floats but of type object are very slow)\n",
    "        data_float64 = data.astype(np.float64)\n",
    "        if not np.all(data == data_float64):\n",
    "            raise ValueError('Cannot convert data matrix to np.float64 without loss of precision. Please check your data.')\n",
    "\n",
    "        return data_float64\n",
    "\n",
    "    def __repr__(self, N_CHAR_MAX=700) -> str:\n",
    "        return str(self)\n",
    "\n",
    "    def __str__(self) -> str:\n",
    "        if not self._is_fitted():\n",
    "            return 'Unfitted model'\n",
    "\n",
    "        if self.root_ is None:\n",
    "            return 'Empty model'\n",
    "\n",
    "        return str(self.root_)\n"
   ]
  },
  {
   "cell_type": "code",
   "execution_count": 5,
   "metadata": {},
   "outputs": [],
   "source": [
    "import datetime as dt\n",
    "from sklearn.metrics import accuracy_score\n",
    "from sklearn.metrics import log_loss\n",
    "import matplotlib.pyplot as plt"
   ]
  },
  {
   "cell_type": "code",
   "execution_count": 6,
   "metadata": {},
   "outputs": [],
   "source": [
    "def plot_2d_hyperplane(\n",
    "        model: BaseEstimator,\n",
    "        X_train: np.ndarray,\n",
    "        y_train: np.ndarray,\n",
    "        info_train: str,\n",
    "        X_test: np.ndarray,\n",
    "        y_test: np.ndarray,\n",
    "        info_test: str) -> None:\n",
    "    n_classes = int(np.max(y_train)) + 1\n",
    "    if n_classes != 2:\n",
    "        print('Warning: Cannot plot more than 2 classes')\n",
    "        return\n",
    "\n",
    "    cmap = plt.get_cmap('coolwarm')\n",
    "\n",
    "    x_min = min(X_train[:, 0].min(), X_test[:, 0].min())\n",
    "    x_max = max(X_train[:, 0].max(), X_test[:, 0].max())\n",
    "    y_min = min(X_train[:, -1].min(), X_test[:, -1].min())\n",
    "    y_max = max(X_train[:, -1].max(), X_test[:, -1].max())\n",
    "\n",
    "    x_lim = [0, x_max+0.2*(x_max-x_min)]\n",
    "    y_lim = [y_min-0.2*(y_max-y_min), 0.4]\n",
    "\n",
    "    def plot(X: np.ndarray, y: np.ndarray, info: str, cmap: Colormap) -> None:\n",
    "        for i in range(n_classes):\n",
    "            class_i = y == i\n",
    "            plt.plot(\n",
    "                X[np.where(class_i)[0], 0],\n",
    "                X[np.where(class_i)[0], -1],\n",
    "                'o',\n",
    "                ms=4,\n",
    "                c=cmap(i/(n_classes-1)),\n",
    "                label=f'Class {i}')\n",
    "\n",
    "        draw_node_2d_hyperplane(model, x_lim, y_lim, cmap)\n",
    "\n",
    "#         plt.title(info)\n",
    "        plt.xlabel('Notional', fontsize=40)\n",
    "        plt.ylabel('Delta Mid', fontsize=40)\n",
    "        plt.xticks(fontsize=30)\n",
    "        plt.yticks(fontsize=30)\n",
    "        plt.legend()\n",
    "\n",
    "    plt.figure(figsize=[10, 16])\n",
    "\n",
    "    plt.subplot(211)\n",
    "    plot(X_train, y_train, info_train, cmap)\n",
    "    plt.xlim(x_lim)\n",
    "    plt.ylim(y_lim)\n",
    "#     plt.gca().set_aspect(1)\n",
    "    plt.gca().set_aspect('auto')\n",
    "    \n",
    "#     plt.subplot(212)\n",
    "#     plot(X_test, y_test, info_test, cmap)\n",
    "#     plt.xlim(x_lim)\n",
    "#     plt.ylim(y_lim)\n",
    "# #     plt.gca().set_aspect(1)\n",
    "#     plt.gca().set_aspect('auto')\n",
    "\n",
    "    plt.show()\n",
    "\n",
    "\n",
    "def draw_node_2d_hyperplane(model: Any, x_lim: List[float], y_lim: List[float], cmap: Colormap) -> None:\n",
    "    n = 100\n",
    "    x = np.linspace(x_lim[0], x_lim[1], n)\n",
    "    y = np.linspace(y_lim[0], y_lim[1], n)\n",
    "    xg, yg = np.meshgrid(x, y)\n",
    "#     print(xg)\n",
    "    X = np.array([xg.flatten(), \n",
    "                  np.ones(xg.shape).flatten(), \n",
    "                  np.ones(xg.shape).flatten(), np.zeros(xg.shape).flatten(), np.zeros(xg.shape).flatten(), \n",
    "                  np.ones(xg.shape).flatten(), np.zeros(xg.shape).flatten(),\n",
    "                  np.ones(xg.shape).flatten(), np.zeros(xg.shape).flatten(), np.zeros(xg.shape).flatten(), np.zeros(xg.shape).flatten(), \n",
    "                  yg.flatten()]).T\n",
    "#     print(xg)\n",
    "    p = model.predict_proba(X)[:, 1]\n",
    "    p = p.reshape(xg.shape)\n",
    "\n",
    "    levels = np.linspace(0, 1, 11)\n",
    "    cf = plt.contourf(xg, yg, p, levels=levels, alpha=0.8, cmap=cmap, zorder=1, vmin=0, vmax=1)\n",
    "    plt.colorbar(cf, ticks=levels, fraction=0.03, pad=0.04)\n"
   ]
  },
  {
   "cell_type": "code",
   "execution_count": null,
   "metadata": {},
   "outputs": [],
   "source": []
  },
  {
   "cell_type": "markdown",
   "metadata": {},
   "source": [
    "# Q1"
   ]
  },
  {
   "cell_type": "code",
   "execution_count": 7,
   "metadata": {},
   "outputs": [],
   "source": [
    "# Load data\n",
    "data = \"RfqData.xlsx\"\n",
    "train_df = pd.read_excel(data)\n",
    "test_df = pd.read_excel(data,sheet_name = 1)\n",
    "competition_df = pd.read_excel(data,sheet_name = 2)"
   ]
  },
  {
   "cell_type": "code",
   "execution_count": 8,
   "metadata": {},
   "outputs": [
    {
     "data": {
      "text/html": [
       "<div>\n",
       "<style scoped>\n",
       "    .dataframe tbody tr th:only-of-type {\n",
       "        vertical-align: middle;\n",
       "    }\n",
       "\n",
       "    .dataframe tbody tr th {\n",
       "        vertical-align: top;\n",
       "    }\n",
       "\n",
       "    .dataframe thead th {\n",
       "        text-align: right;\n",
       "    }\n",
       "</style>\n",
       "<table border=\"1\" class=\"dataframe\">\n",
       "  <thead>\n",
       "    <tr style=\"text-align: right;\">\n",
       "      <th></th>\n",
       "      <th>Time</th>\n",
       "      <th>Bond</th>\n",
       "      <th>Side</th>\n",
       "      <th>Notional</th>\n",
       "      <th>Counterparty</th>\n",
       "      <th>MidPrice</th>\n",
       "      <th>QuotedPrice</th>\n",
       "      <th>Competitors</th>\n",
       "      <th>Traded</th>\n",
       "      <th>NextMidPrice</th>\n",
       "    </tr>\n",
       "  </thead>\n",
       "  <tbody>\n",
       "    <tr>\n",
       "      <th>0</th>\n",
       "      <td>25000</td>\n",
       "      <td>Bond_2</td>\n",
       "      <td>Offer</td>\n",
       "      <td>10000000</td>\n",
       "      <td>Ctpy_0</td>\n",
       "      <td>124.01</td>\n",
       "      <td>124.25</td>\n",
       "      <td>1</td>\n",
       "      <td>MISSED</td>\n",
       "      <td>124.24</td>\n",
       "    </tr>\n",
       "    <tr>\n",
       "      <th>1</th>\n",
       "      <td>25001</td>\n",
       "      <td>Bond_0</td>\n",
       "      <td>Bid</td>\n",
       "      <td>1000</td>\n",
       "      <td>Ctpy_1</td>\n",
       "      <td>98.07</td>\n",
       "      <td>98.06</td>\n",
       "      <td>1</td>\n",
       "      <td>DONE</td>\n",
       "      <td>98.08</td>\n",
       "    </tr>\n",
       "    <tr>\n",
       "      <th>2</th>\n",
       "      <td>25002</td>\n",
       "      <td>Bond_1</td>\n",
       "      <td>Offer</td>\n",
       "      <td>1000</td>\n",
       "      <td>Ctpy_1</td>\n",
       "      <td>170.30</td>\n",
       "      <td>170.40</td>\n",
       "      <td>1</td>\n",
       "      <td>MISSED</td>\n",
       "      <td>170.64</td>\n",
       "    </tr>\n",
       "    <tr>\n",
       "      <th>3</th>\n",
       "      <td>25003</td>\n",
       "      <td>Bond_0</td>\n",
       "      <td>Bid</td>\n",
       "      <td>20000</td>\n",
       "      <td>Ctpy_0</td>\n",
       "      <td>98.00</td>\n",
       "      <td>97.98</td>\n",
       "      <td>4</td>\n",
       "      <td>DONE</td>\n",
       "      <td>97.94</td>\n",
       "    </tr>\n",
       "    <tr>\n",
       "      <th>4</th>\n",
       "      <td>25004</td>\n",
       "      <td>Bond_1</td>\n",
       "      <td>Offer</td>\n",
       "      <td>1000</td>\n",
       "      <td>Ctpy_3</td>\n",
       "      <td>171.12</td>\n",
       "      <td>171.16</td>\n",
       "      <td>2</td>\n",
       "      <td>DONE</td>\n",
       "      <td>171.46</td>\n",
       "    </tr>\n",
       "  </tbody>\n",
       "</table>\n",
       "</div>"
      ],
      "text/plain": [
       "    Time    Bond   Side  Notional Counterparty  MidPrice  QuotedPrice  \\\n",
       "0  25000  Bond_2  Offer  10000000       Ctpy_0    124.01       124.25   \n",
       "1  25001  Bond_0    Bid      1000       Ctpy_1     98.07        98.06   \n",
       "2  25002  Bond_1  Offer      1000       Ctpy_1    170.30       170.40   \n",
       "3  25003  Bond_0    Bid     20000       Ctpy_0     98.00        97.98   \n",
       "4  25004  Bond_1  Offer      1000       Ctpy_3    171.12       171.16   \n",
       "\n",
       "   Competitors  Traded  NextMidPrice  \n",
       "0            1  MISSED        124.24  \n",
       "1            1    DONE         98.08  \n",
       "2            1  MISSED        170.64  \n",
       "3            4    DONE         97.94  \n",
       "4            2    DONE        171.46  "
      ]
     },
     "execution_count": 8,
     "metadata": {},
     "output_type": "execute_result"
    }
   ],
   "source": [
    "train_df.head()"
   ]
  },
  {
   "cell_type": "code",
   "execution_count": 9,
   "metadata": {},
   "outputs": [],
   "source": [
    "def get_rfq_params(df):\n",
    "    df = pd.concat([df, pd.get_dummies(df[[\"Bond\", \"Side\", \"Counterparty\"]])], axis=1) #generate one hot encoding\n",
    "    df[\"delta_mid\"] = np.absolute(df[\"QuotedPrice\"] - df[\"MidPrice\"]) #Calculate spread from mid\n",
    "    ys = np.array((df[\"Traded\"] == \"DONE\").astype(int))\n",
    "    df[\"Label\"] = ys\n",
    "    df = df.drop([\"Bond\",\"Time\",\"Side\",\"Counterparty\",'Traded',\"MidPrice\",\"QuotedPrice\", \"NextMidPrice\"],axis = 1)\n",
    "    return df"
   ]
  },
  {
   "cell_type": "code",
   "execution_count": 10,
   "metadata": {},
   "outputs": [],
   "source": [
    "def get_train_test_data(df,train_size=0.75):\n",
    "    print(df.columns)\n",
    "    data = np.array(df)\n",
    "    n = len(data)\n",
    "    train = data[:int(train_size*n)]\n",
    "    test = data[int(train_size*n):]\n",
    "    return train, test\n",
    "    "
   ]
  },
  {
   "cell_type": "code",
   "execution_count": 11,
   "metadata": {},
   "outputs": [
    {
     "name": "stdout",
     "output_type": "stream",
     "text": [
      "Index(['Notional', 'Competitors', 'Bond_Bond_0', 'Bond_Bond_1', 'Bond_Bond_2',\n",
      "       'Side_Bid', 'Side_Offer', 'Counterparty_Ctpy_0', 'Counterparty_Ctpy_1',\n",
      "       'Counterparty_Ctpy_2', 'Counterparty_Ctpy_3', 'delta_mid', 'Label'],\n",
      "      dtype='object')\n"
     ]
    }
   ],
   "source": [
    "# data for train and vaildation from the first sheet in excel file\n",
    "df = get_rfq_params(train_df)\n",
    "train,test = get_train_test_data(df,0.8)\n",
    "X_train = train[:, :-1]\n",
    "y_train = train[:, -1]\n",
    "X_test = test[:, :-1]\n",
    "y_test = test[:, -1]"
   ]
  },
  {
   "cell_type": "code",
   "execution_count": null,
   "metadata": {},
   "outputs": [],
   "source": []
  },
  {
   "cell_type": "markdown",
   "metadata": {},
   "source": [
    "### Adaptive Bayesian Reticulum model"
   ]
  },
  {
   "cell_type": "code",
   "execution_count": 12,
   "metadata": {},
   "outputs": [],
   "source": [
    "# # Tuning hyperparameters of Adaptive Bayesian Reticulum model\n",
    "# pruns = [1]\n",
    "# learning_rates = [0.01,0.1,0.5,1]\n",
    "# stiffs = [10,25,50]\n",
    "# train_acc, test_acc = [],[]\n",
    "# importance = []\n",
    "# for prune in pruns:\n",
    "#     for it in range(100,201,50):\n",
    "#         for rate in learning_rates:\n",
    "#             for stiff in stiffs:\n",
    "#                 model = AdaptiveBayesianReticulum(\n",
    "#                     prior=(1, 1),\n",
    "#                     pruning_factor=prune,\n",
    "#                     n_iter=it,\n",
    "#                     learning_rate_init=rate,\n",
    "#                     n_gradient_descent_steps=1,\n",
    "#                     initial_relative_stiffness=stiff,\n",
    "#                     random_state=42)\n",
    "\n",
    "#                 t0 = dt.datetime.utcnow()\n",
    "#                 model.fit(X_train, y_train, verbose=False)\n",
    "#                 t1 = dt.datetime.utcnow()\n",
    "#                 print(f'Model: Prune = {prune} n_iter = {it} learning_rate = {rate} stiffness = {stiff}')\n",
    "#                 print(f'Training took {t1-t0}')\n",
    "\n",
    "#                 # evaluate performance\n",
    "#                 log_loss_train = log_loss(y_train, model.predict_proba(X_train))\n",
    "#                 y_pred = model.predict_proba(X_train)\n",
    "\n",
    "#                 log_loss_test = log_loss(y_test, model.predict_proba(X_test))\n",
    "#                 accuracy_train = accuracy_score(y_train, model.predict(X_train))\n",
    "#                 accuracy_test = accuracy_score(y_test, model.predict(X_test))\n",
    "#                 info_train = f'Train: Log-loss = {log_loss_train}, accuracy = {100*accuracy_train:.4f} %'\n",
    "#                 info_test = f'Test: Log-loss = {log_loss_test}, accuracy = {100*accuracy_test:.4f} %'\n",
    "# #                 train_acc.append(100*accuracy_train:.4f)\n",
    "#                 print(info_train)\n",
    "#                 print(info_test)\n",
    "#                 train_acc.append(100*accuracy_train)\n",
    "#                 test_acc.append(100*accuracy_test)\n",
    "#                 importance.append(model.feature_importance())\n",
    "#                 print(f'Feature importance: {model.feature_importance()}')\n"
   ]
  },
  {
   "cell_type": "code",
   "execution_count": 13,
   "metadata": {},
   "outputs": [
    {
     "name": "stdout",
     "output_type": "stream",
     "text": [
      "Model:\n",
      "origin=[ 1.32220408e-06, -1.65620669e-03,  1.55167470e-02,  7.29747943e-02, -5.60963867e-03, -5.60924534e-03,  3.78333786e-02,  3.67710398e-02, -1.12472505e-02,  2.59963437e-02, -1.11021497e-02, -1.85958999e-01], normal=[ 2.06488476e-04, -2.58649630e-01,  2.42324879e+00,  1.13964662e+01, -8.76056699e-01, -8.75995274e-01,  5.90843488e+00,  5.74252954e+00, -1.75648197e+00,  4.05984634e+00, -1.73382158e+00, -2.90411980e+01]\n",
      "├─ left: origin=[-2.25808380e-09,  4.10671679e-03,  7.05600944e-03, -2.63397592e-02, -3.69932668e-03, -6.41614454e-03, -6.07854786e-03, -1.84913644e-02, -1.08802940e-02,  1.03314267e-02,  2.21200080e-02,  4.25887789e-02], normal=[-5.33511498e-07,  9.70283136e-01,  1.66710472e+00, -6.22322538e+00, -8.74030149e-01, -1.51592553e+00, -1.43616246e+00, -4.36890587e+00, -2.57065835e+00,  2.44097892e+00,  5.22623589e+00,  1.00623384e+01]\n",
      "│  ├─ left: origin=[ 1.82837924e-10, -2.96910373e-04,  9.49357455e-04,  9.22090570e-04,  9.51045392e-04, -2.92767371e-03,  2.13334425e-05,  3.34359332e-03, -2.60019595e-03,  3.85928193e-03, -6.60251210e-04,  3.75444273e-02], normal=[-3.22390057e-07,  5.23528981e-01, -1.67396018e+00, -1.62588168e+00, -1.67693645e+00,  5.16223810e+00, -3.76163194e-02, -5.89561082e+00,  4.58481098e+00, -6.80490182e+00,  1.16419188e+00, -6.62004349e+01]\n",
      "│  │  ├─ left: origin=[-5.96755793e-10, -5.73518636e-04,  1.72597255e-02, -2.32971964e-02,  1.11912799e-02, -1.92058633e-02, -6.24800286e-03, -6.45609399e-04, -7.99278786e-03,  1.97392905e-03,  8.84979222e-03, -4.72110846e-02], normal=[ 1.93686323e-07,  1.86144344e-01, -5.60191088e+00,  7.56146543e+00, -3.63230299e+00,  6.23356000e+00,  2.02788597e+00,  2.09542516e-01,  2.59418293e+00, -6.40669206e-01, -2.87233695e+00,  1.53230877e+01]\n",
      "│  │  │  ├─ left: origin=[ 1.20308071e-10,  4.48374142e-03,  7.59908951e-03,  9.25656824e-03, -8.39938920e-03, -1.16766966e-02, -5.70174141e-03,  1.19046093e-04,  4.72386382e-03, -3.31136405e-03,  1.70432800e-03, -8.61649745e-02], normal=[ 7.72472250e-08,  2.87891394e+00,  4.87921195e+00,  5.94344340e+00, -5.39306717e+00, -7.49735578e+00, -3.66096554e+00,  7.64369363e-02,  3.03309137e+00, -2.12615564e+00,  1.09431235e+00, -5.53246771e+01]\n",
      "│  │  │  │  ├─ left: origin=[-1.69158813e-10,  3.73334693e-03, -5.18875302e-03,  1.70333594e-03, -5.25051812e-04,  5.64207204e-03, -2.89992915e-03, -2.91368548e-03,  2.07327968e-03,  2.23631729e-03, -1.11987973e-03, -9.76805881e-02], normal=[ 2.45369530e-07, -5.41532281e+00,  7.52642955e+00, -2.47073582e+00,  7.61602153e-01, -8.18398131e+00,  4.20642731e+00,  4.22638125e+00, -3.00734943e+00, -3.24383999e+00,  1.62441648e+00,  1.41688391e+02]\n",
      "│  │  │  │  │  ├─ left:  p(y)=[0.19294857 0.80705143], n=52.8822662292946\n",
      "│  │  │  │  │  └─ right: p(y)=[0.05353401 0.94646599], n=29.17038937931912\n",
      "│  │  │  │  └─ right:origin=[-3.11754802e-10,  3.56289339e-04,  3.55066685e-03,  8.47477499e-03, -7.73303362e-04, -3.87839536e-03, -5.92432919e-03, -2.71266686e-04, -4.19532031e-03,  9.40343980e-03,  1.65599182e-02, -8.79838775e-02], normal=[-1.76339526e-07,  2.01529833e-01,  2.00838256e+00,  4.79363202e+00, -4.37407691e-01, -2.19375738e+00, -3.35100981e+00, -1.53438018e-01, -2.37302133e+00,  5.31891763e+00,  9.36687456e+00, -4.97667883e+01]\n",
      "│  │  │  │     ├─ left:  p(y)=[0.22134363 0.77865637], n=48.749367576139136\n",
      "│  │  │  │     └─ right: p(y)=[0.42756584 0.57243416], n=41.523449129839875\n",
      "│  │  │  └─ right:origin=[ 4.65850294e-10,  8.30073143e-04,  2.16967104e-03, -5.20817828e-04, -1.07640937e-03, -5.82802768e-04,  1.32458892e-03,  3.26781246e-05,  2.46742560e-06,  7.93378951e-04, -1.02969693e-03, -6.00916775e-02], normal=[-1.74032163e-06, -3.10098387e+00, -8.10544824e+00,  1.94566912e+00,  4.02124576e+00,  2.17723221e+00, -4.94839391e+00, -1.22078805e-01, -9.21779850e-03, -2.96390186e+00,  3.84673761e+00,  2.24490244e+02]\n",
      "│  │  │     ├─ left: origin=[-1.57280396e-11, -6.71724081e-05,  1.07227311e-04, -2.75619547e-05, -1.12759440e-04, -5.79401509e-05, -2.19208048e-05, -1.15748227e-04,  3.12567370e-04, -7.83808726e-05,  7.56289856e-05,  2.11671084e-02], normal=[ 3.39446219e-07,  1.44973058e+00, -2.31420484e+00,  5.94848536e-01,  2.43360053e+00,  1.25047785e+00,  4.73099922e-01,  2.49810523e+00, -6.74590189e+00,  1.69163428e+00, -1.63224241e+00, -4.56833472e+02]\n",
      "│  │  │     │  ├─ left:  p(y)=[0.04133807 0.95866193], n=51.30683477221541\n",
      "│  │  │     │  └─ right: p(y)=[0.38040394 0.61959606], n=41.96786974092748\n",
      "│  │  │     └─ right: p(y)=[0.03036571 0.96963429], n=79.20446596541238\n",
      "│  │  └─ right:origin=[ 8.48423754e-10,  4.43055076e-03,  1.63044293e-02,  2.03610911e-02,  9.02692273e-03, -1.15115139e-02,  2.79469424e-03,  1.39223672e-02, -3.89503377e-02,  5.59785994e-03, -9.84080286e-03, -1.05145363e-01], normal=[-2.28446933e-07, -1.19297194e+00, -4.39013743e+00, -5.48243586e+00, -2.43059298e+00,  3.09959502e+00, -7.52500535e-01, -3.74874240e+00,  1.04877841e+01, -1.50728210e+00,  2.64973868e+00,  2.83114842e+01]\n",
      "│  │     ├─ left: origin=[ 3.97198453e-09,  4.31178151e-04, -5.13797267e-03,  1.16182038e-02,  5.26091379e-03,  2.99446029e-02, -2.15153272e-02, -6.04336736e-03, -4.82454067e-02, -4.37088202e-02,  1.62629079e-02,  1.24910404e-01], normal=[ 5.94806027e-07,  6.45690740e-02, -7.69413146e-01,  1.73982995e+00,  7.87823620e-01,  4.48421442e+00, -3.22192752e+00, -9.04996307e-01, -7.22476598e+00, -6.54541061e+00,  2.43537596e+00,  1.87053753e+01]\n",
      "│  │     │  ├─ left:  p(y)=[0.87304296 0.12695704], n=110.77482135717163\n",
      "│  │     │  └─ right: p(y)=[0.7117564 0.2882436], n=59.06685932000175\n",
      "│  │     └─ right:origin=[-6.60123564e-10,  4.86258955e-03, -2.88919987e-02, -3.91854932e-03,  1.04846892e-02, -5.30030491e-03,  3.86623796e-02,  2.78852184e-02, -1.72258750e-02,  9.42639758e-03,  1.50231163e-02, -1.54018763e-01], normal=[ 1.39168864e-07, -1.02514302e+00,  6.09108184e+00,  8.26118152e-01, -2.21040783e+00,  1.11742325e+00, -8.15089744e+00, -5.87882995e+00,  3.63160111e+00, -1.98729619e+00, -3.16721012e+00,  3.24706123e+01]\n",
      "│  │        ├─ left:  p(y)=[0.68090607 0.31909393], n=76.91755670410964\n",
      "│  │        └─ right:origin=[ 1.19910848e-10,  1.58955867e-03,  1.25676309e-04,  9.77136726e-03, -1.79467622e-03,  5.60921433e-04, -2.14003962e-03, -3.80473049e-03, -1.76331577e-03, -1.06751991e-04, -1.23738743e-03, -4.98945130e-02], normal=[ 1.57771029e-07,  2.09143968e+00,  1.65356854e-01,  1.28565404e+01, -2.36132024e+00,  7.38024564e-01, -2.81572733e+00, -5.00602116e+00, -2.32005817e+00, -1.40457445e-01, -1.62807528e+00, -6.56480107e+01]\n",
      "│  │           ├─ left:  p(y)=[0.30822908 0.69177092], n=34.043198716629476\n",
      "│  │           └─ right:origin=[-1.22538891e-11, -1.77171095e-04, -1.78137217e-04, -2.97221588e-04, -2.72436040e-05,  3.47733620e-04,  7.92360810e-04,  3.01411056e-04, -1.25038747e-03,  3.02328719e-04,  1.21976424e-03, -1.05251680e-02], normal=[ 6.40163671e-08,  9.25571448e-01,  9.30618630e-01,  1.55273532e+00,  1.42325146e-01, -1.81661862e+00, -4.13942547e+00, -1.57462180e+00,  6.53223340e+00, -1.57941582e+00, -6.37225251e+00,  5.49852390e+01]\n",
      "│  │              ├─ left:  p(y)=[0.74630123 0.25369877], n=38.45135279486966\n",
      "│  │              └─ right: p(y)=[0.4024459 0.5975541], n=57.838775966923585\n",
      "│  └─ right:origin=[ 9.69826508e-10,  1.78649970e-03, -3.82780294e-03, -2.25451659e-02,  5.53693641e-03,  2.14531973e-03,  1.27838809e-02,  1.38223625e-02, -9.38886830e-03, -3.13431491e-02,  1.66417738e-03, -1.44949827e-01], normal=[-2.91463903e-07, -5.36900333e-01,  1.15037729e+00,  6.77554386e+00, -1.66402659e+00, -6.44737237e-01, -3.84196535e+00, -4.15406229e+00,  2.82165540e+00,  9.41961940e+00, -5.00138562e-01,  4.35620620e+01]\n",
      "│     ├─ left: origin=[ 6.96686961e-10, -7.98358762e-04, -1.45214158e-02,  1.88967121e-03, -2.16311790e-03, -1.58131756e-03,  2.47715278e-03, -9.08203243e-04,  1.17552135e-03, -2.21204737e-02, -1.03153386e-02,  7.67838675e-02], normal=[ 3.15075262e-07, -3.61056127e-01, -6.56728078e+00,  8.54599963e-01, -9.78265675e-01, -7.15147653e-01,  1.12028731e+00, -4.10733071e-01,  5.31627140e-01, -1.00039393e+01, -4.66509093e+00,  3.47253480e+01]\n",
      "│     │  ├─ left: origin=[ 8.29077211e-09, -3.11056563e-03,  7.44304359e-02, -2.27699219e-02, -1.13298053e-03,  5.73412174e-02, -2.03021467e-02,  5.86898404e-02,  2.29180839e-02, -1.82135295e-02,  4.09566485e-02,  2.62439933e-01], normal=[ 6.14560762e-07, -2.30573408e-01,  5.51722141e+00, -1.68784046e+00, -8.39831764e-02,  4.25046808e+00, -1.50491445e+00,  4.35043595e+00,  1.69882309e+00, -1.35009387e+00,  3.03594753e+00,  1.94535905e+01]\n",
      "│     │  │  ├─ left: origin=[-3.53533640e-09,  1.99362239e-02,  5.86150284e-02,  3.08527829e-03,  1.31499521e-02,  6.01991329e-02, -3.33307368e-02, -3.50607935e-02,  1.97550126e-02,  5.53296323e-02, -1.48091163e-02,  3.77573075e-01], normal=[-3.02806532e-07,  1.70756560e+00,  5.02045957e+00,  2.64258422e-01,  1.12631188e+00,  5.15614034e+00, -2.85482446e+00, -3.00300624e+00,  1.69204460e+00,  4.73906077e+00, -1.26842163e+00,  3.23396646e+01]\n",
      "│     │  │  │  ├─ left:  p(y)=[0.90494387 0.09505613], n=51.92538266669892\n",
      "│     │  │  │  └─ right:origin=[ 4.71116428e-09, -2.89231937e-04, -7.18498499e-02,  3.88502672e-02,  3.22896729e-02, -4.23377756e-02,  1.02676766e-02,  2.92462962e-02, -2.74086964e-02,  1.83630059e-02, -7.72907161e-02,  2.93707405e-01], normal=[-4.62946158e-07,  2.84215973e-02,  7.06038041e+00, -3.81765120e+00, -3.17296939e+00,  4.16035388e+00, -1.00896109e+00, -2.87390965e+00,  2.69333649e+00, -1.80445481e+00,  7.59503129e+00, -2.88613826e+01]\n",
      "│     │  │  │     ├─ left:  p(y)=[0.69530886 0.30469114], n=73.90606368512346\n",
      "│     │  │  │     └─ right: p(y)=[0.85961462 0.14038538], n=39.65621279303527\n",
      "│     │  │  └─ right:origin=[-2.02205137e-08,  6.75714882e-03, -5.36440731e-02,  1.00677954e-01, -5.93253886e-02,  5.09929414e-02,  3.01949346e-02, -9.26529777e-02,  9.23040899e-03, -1.05253256e-02, -4.21175786e-02, -2.99932410e-01], normal=[ 1.14477729e-06, -3.82553610e-01,  3.03704037e+00, -5.69984706e+00,  3.35868606e+00, -2.88694749e+00, -1.70947563e+00,  5.24551582e+00, -5.22576367e-01,  5.95887614e-01,  2.38447194e+00,  1.69805681e+01]\n",
      "│     │  │     ├─ left:  p(y)=[0.76767544 0.23232456], n=87.41729828267026\n",
      "│     │  │     └─ right:origin=[ 1.10805733e-07,  2.21188712e-03,  2.90560091e-03, -2.05756141e-03, -3.05431437e-03, -1.25967585e-05, -6.35294606e-04, -1.69188808e-03,  2.59959556e-03,  3.56612858e-03,  3.30020522e-04,  1.37889499e-01], normal=[ 1.13814293e-04,  2.27194353e+00,  2.98449279e+00, -2.11342762e+00, -3.13724407e+00, -1.29387814e-02, -6.52543909e-01, -1.73782565e+00,  2.67017889e+00,  3.66295489e+00,  3.38981127e-01,  1.41633427e+02]\n",
      "│     │  │        ├─ left:  p(y)=[0.61166 0.38834], n=12.461828491969278\n",
      "│     │  │        └─ right: p(y)=[0.3454435 0.6545565], n=15.76354242369089\n",
      "│     │  └─ right:origin=[ 3.91336105e-09,  1.29332399e-02,  5.80599859e-02, -2.06913207e-02,  4.70437827e-02,  4.94376787e-03,  5.90474471e-02, -2.17955459e-02, -2.26428736e-02, -3.23249230e-02, -1.14540554e-01, -2.36280713e-01], normal=[ 3.21747392e-07,  1.06334073e+00,  4.77355624e+00, -1.70119199e+00,  3.86782978e+00,  4.06465031e-01,  4.85474299e+00, -1.79197880e+00, -1.86164411e+00, -2.65767956e+00, -9.41725644e+00, -1.94264475e+01]\n",
      "│     │     ├─ left: origin=[-2.14063638e-10,  2.73857964e-03,  5.98912966e-03,  6.17257787e-03,  7.30526189e-04, -5.56610185e-03,  5.74432884e-03, -2.93733634e-03,  3.09008181e-03,  9.24094943e-03,  6.23720541e-04,  1.50822136e-01], normal=[ 1.43652729e-07, -1.83779199e+00, -4.01915443e+00, -4.14226191e+00, -4.90237770e-01,  3.73527110e+00, -3.85487475e+00,  1.97117261e+00, -2.07367626e+00, -6.20136897e+00, -4.18563183e-01, -1.01212946e+02]\n",
      "│     │     │  ├─ left: origin=[-9.74674146e-12, -9.54522797e-04,  5.90571594e-03, -2.66861994e-03,  5.51355549e-04,  7.44783168e-04,  1.76582743e-03,  2.88724303e-03, -1.43619298e-03, -2.55837008e-04,  2.25060616e-03,  7.53178453e-02], normal=[ 1.47223059e-08,  1.44179228e+00, -8.92049482e+00,  4.03091015e+00, -8.32814238e-01, -1.12498374e+00, -2.66725569e+00, -4.36113704e+00,  2.16934783e+00,  3.86437941e-01, -3.39950665e+00, -1.13766469e+02]\n",
      "│     │     │  │  ├─ left:  p(y)=[0.13255439 0.86744561], n=93.47452538847419\n",
      "│     │     │  │  └─ right:origin=[ 6.68845896e-10, -2.87411126e-04,  2.05434440e-03,  6.57381687e-04,  1.36616337e-03,  5.58545711e-03, -1.49131020e-03,  8.10968115e-03, -7.54684390e-03, -4.75690558e-03,  3.76595394e-03,  1.13199120e-01], normal=[-4.18180351e-07,  1.79697127e-01, -1.28443109e+00, -4.11012621e-01, -8.54161895e-01, -3.49217724e+00,  9.32407045e-01, -5.07038966e+00,  4.71848875e+00,  2.97414466e+00, -2.35457518e+00, -7.07751187e+01]\n",
      "│     │     │  │     ├─ left: origin=[-4.39423895e-21, -3.95801291e-15, -6.37142365e-15,  8.73610010e-15, -2.37215135e-14,  6.86018901e-15,  3.00475291e-14, -2.02340640e-14,  2.81587437e-15, -9.82603082e-15,  6.32159136e-15,  2.00000000e-02], normal=[-8.54275133e-07, -7.69469307e-01, -1.23865562e+00,  1.69836760e+00, -4.61165159e+00,  1.33367551e+00,  5.84147953e+00, -3.93366358e+00,  5.47428458e-01, -1.91025884e+00,  1.22896783e+00,  3.88815967e+12]\n",
      "│     │     │  │     │  ├─ left:  p(y)=[0.56206558 0.43793442], n=42.32283236409772\n",
      "│     │     │  │     │  └─ right: p(y)=[0.12305299 0.87694701], n=33.20506598363848\n",
      "│     │     │  │     └─ right:origin=[ 5.94355324e-09,  3.97466237e-03, -6.17555632e-03,  3.63112693e-03,  2.57063893e-03, -6.02476940e-03, -8.42671938e-04,  1.08531798e-03,  6.52585267e-03,  2.84167069e-03, -3.38999615e-03,  2.65907388e-01], normal=[ 3.83631655e-06,  2.56547934e+00, -3.98606490e+00,  2.34374150e+00,  1.65924057e+00, -3.88873821e+00, -5.43909708e-01,  7.00527641e-01,  4.21216663e+00,  1.83418031e+00, -2.18810160e+00,  1.71632165e+02]\n",
      "│     │     │  │        ├─ left:  p(y)=[0.73465462 0.26534538], n=11.326750233175183\n",
      "│     │     │  │        └─ right: p(y)=[0.49473147 0.50526853], n=49.93744078318513\n",
      "│     │     │  └─ right:origin=[ 1.90098598e-10,  4.52253983e-04,  2.36552513e-03, -5.56041272e-03, -9.41629487e-03,  9.17324621e-03, -3.44536089e-04,  2.96802770e-03,  1.23330358e-04,  2.59184024e-04,  4.08635287e-03, -4.49488916e-02], normal=[ 1.80874119e-07,  4.30308490e-01,  2.25073871e+00, -5.29059531e+00, -8.95937191e+00,  8.72811712e+00, -3.27817576e-01,  2.82400503e+00,  1.17345788e-01,  2.46607194e-01,  3.88806379e+00, -4.27677598e+01]\n",
      "│     │     │     ├─ left: origin=[ 4.05456001e-10,  3.30533937e-04, -6.97786095e-04, -8.51617405e-04, -3.24025230e-05,  2.97403721e-03,  1.37856833e-03, -9.39876815e-04,  1.95702557e-03, -7.22389539e-03,  1.45663315e-03, -7.35318139e-02], normal=[ 8.01138106e-07,  6.53100044e-01, -1.37875140e+00, -1.68270578e+00, -6.40239528e-02,  5.87638247e+00,  2.72390498e+00, -1.85709702e+00,  3.86687521e+00, -1.42736520e+01,  2.87815280e+00, -1.45291074e+02]\n",
      "│     │     │     │  ├─ left:  p(y)=[0.13293915 0.86706085], n=7.696630211192137\n",
      "│     │     │     │  └─ right: p(y)=[0.61787285 0.38212715], n=50.18088029782996\n",
      "│     │     │     └─ right: p(y)=[0.72283036 0.27716964], n=66.78711280948183\n",
      "│     │     └─ right:origin=[-4.04780370e-09,  9.02874472e-04,  5.69256369e-03,  4.83485843e-03,  7.39247420e-03,  7.35627015e-03,  3.48840026e-03, -6.59076129e-04, -7.33416979e-04, -2.81188255e-03,  1.47198036e-03, -9.11107970e-02], normal=[-2.61244825e-06,  5.82714236e-01,  3.67397462e+00,  3.12041255e+00,  4.77109508e+00,  4.74772903e+00,  2.25140986e+00, -4.25367041e-01, -4.73346548e-01, -1.81478604e+00,  9.50014577e-01, -5.88028127e+01]\n",
      "│     │        ├─ left: origin=[ 3.21041397e-08, -3.34803101e-04, -1.69975439e-03, -2.72228015e-03,  4.44437315e-04,  9.03809589e-04,  3.89607930e-03,  1.83465565e-03,  5.02504113e-04, -1.63019764e-03, -4.05406463e-03,  5.94022578e-02], normal=[-5.74100370e-05,  5.98709656e-01,  3.03957568e+00,  4.86810129e+00, -7.94762387e-01, -1.61623213e+00, -6.96714064e+00, -3.28081206e+00, -8.98599992e-01,  2.91519125e+00,  7.24965697e+00, -1.06225734e+02]\n",
      "│     │        │  ├─ left:  p(y)=[0.17846858 0.82153142], n=80.52784059775306\n",
      "│     │        │  └─ right: p(y)=[0.44760453 0.55239547], n=29.249914809694456\n",
      "│     │        └─ right:origin=[-2.09869396e-10, -1.74724604e-03, -4.10088912e-03, -1.82779805e-03, -4.19464603e-03,  3.91246015e-03,  4.67417073e-03, -1.87804128e-03, -5.47773378e-03,  3.10238677e-03, -1.81709051e-03,  3.47110469e-02], normal=[-2.38196554e-07, -1.98308088e+00, -4.65440734e+00, -2.07450540e+00, -4.76081910e+00,  4.44054514e+00,  5.30506773e+00, -2.13153023e+00, -6.21709185e+00,  3.52113196e+00, -2.06235262e+00,  3.93961765e+01]\n",
      "│     │           ├─ left:  p(y)=[0.89545754 0.10454246], n=54.20371283857189\n",
      "│     │           └─ right:origin=[ 9.62272300e-10,  4.00675745e-03, -3.51869813e-03,  5.45985455e-03, -2.63042370e-03,  1.54033093e-02, -9.38183087e-04, -1.32337862e-02, -2.42457914e-02, -2.74123746e-02,  1.35199845e-02, -1.32277940e-01], normal=[ 2.99950382e-07,  1.24894838e+00, -1.09681516e+00,  1.70189400e+00, -8.19930693e-01,  4.80137328e+00, -2.92441521e-01, -4.12511015e+00, -7.55766782e+00, -8.54472506e+00,  4.21432117e+00, -4.12324230e+01]\n",
      "│     │              ├─ left:  p(y)=[0.36419905 0.63580095], n=55.9370150330968\n",
      "│     │              └─ right:origin=[-3.34449811e-09,  8.63767449e-03,  2.92890929e-02, -9.40443587e-03, -2.23394736e-02,  1.06357998e-01,  1.30026579e-01,  3.65971556e-02,  3.18984079e-03, -6.04382349e-02, -3.10483253e-02,  3.90710993e-01], normal=[-2.96678721e-07,  7.66217870e-01,  2.59813291e+00, -8.34234588e-01, -1.98165651e+00,  9.43464571e+00,  1.15342027e+01,  3.24640558e+00,  2.82959612e-01, -5.36126427e+00, -2.75418826e+00,  3.46586046e+01]\n",
      "│     │                 ├─ left:  p(y)=[0.73849658 0.26150342], n=50.63434428215897\n",
      "│     │                 └─ right: p(y)=[0.56756529 0.43243471], n=101.66017639202929\n",
      "│     └─ right:origin=[ 2.72386903e-09,  4.81829946e-03, -1.85476691e-02, -3.40356896e-03, -1.56574961e-02, -4.94534721e-02,  3.31231591e-02,  6.82870269e-02, -2.50086910e-02,  1.00668169e-02, -2.32691209e-02, -2.90353464e-01], normal=[ 4.09481261e-07,  7.24338550e-01, -2.78828492e+00, -5.11661060e-01, -2.35380306e+00, -7.43437732e+00,  4.97942920e+00,  1.02656397e+01, -3.75957516e+00,  1.51335209e+00, -3.49806429e+00, -4.36490528e+01]\n",
      "│        ├─ left: origin=[ 7.60786711e-12, -8.82544292e-06,  1.64079398e-04, -2.53197431e-04,  2.25140162e-04, -1.43914460e-04, -3.16230755e-04, -5.53634926e-05, -4.25833164e-04,  5.16599213e-05, -5.26917118e-05,  8.35807968e-03], normal=[ 1.05375899e-07, -1.22240435e-01,  2.27264934e+00, -3.50701539e+00,  3.11839662e+00, -1.99334656e+00, -4.38008443e+00, -7.66834876e-01, -5.89817777e+00,  7.15537035e-01, -7.29828274e-01,  1.15767028e+02]\n",
      "│        │  ├─ left:  p(y)=[0.42554068 0.57445932], n=41.16914424439015\n",
      "│        │  └─ right: p(y)=[0.09517217 0.90482783], n=65.5853182182371\n",
      "│        └─ right:origin=[-3.70264509e-12,  8.59952247e-04,  7.24230103e-03, -2.15346955e-03, -2.35790135e-03, -5.40159660e-03,  2.46391590e-03,  9.86349545e-04,  3.03294888e-04, -2.33504455e-03,  2.39368527e-03,  6.90953954e-02], normal=[ 4.35736772e-09, -1.01201387e+00, -8.52292564e+00,  2.53425821e+00,  2.77483879e+00,  6.35673745e+00, -2.89959944e+00, -1.16076145e+00, -3.56925205e-01,  2.74794033e+00, -2.81695023e+00, -8.13132339e+01]\n",
      "│           ├─ left: origin=[ 5.38806933e-11, -1.30231311e-04, -3.80163700e-04,  1.94788500e-04,  2.02523253e-04, -1.14556799e-04,  1.88165895e-04,  5.69880480e-05, -9.04690119e-04,  1.06433963e-04,  3.08790237e-04,  1.39500546e-02], normal=[-4.31060481e-07,  1.04188659e+00,  3.04141497e+00, -1.55836199e+00, -1.62024216e+00,  9.16486147e-01, -1.50537932e+00, -4.55920180e-01,  7.23777172e+00, -8.51501204e-01, -2.47040749e+00, -1.11604304e+02]\n",
      "│           │  ├─ left:  p(y)=[0.09705279 0.90294721], n=16.353136159516716\n",
      "│           │  └─ right: p(y)=[0.27192806 0.72807194], n=43.21638202128302\n",
      "│           └─ right:origin=[-1.81861105e-11, -4.72177185e-05, -8.64336856e-04,  2.28494411e-04, -5.01636920e-04, -7.18328843e-04,  4.16491841e-04, -3.21424489e-04,  1.98203150e-04, -6.19174640e-06,  1.05347783e-04,  1.64417190e-02], normal=[ 2.00737296e-07,  5.21186601e-01,  9.54050307e+00, -2.52210884e+00,  5.53704096e+00,  7.92887458e+00, -4.59721422e+00,  3.54786597e+00, -2.18775556e+00,  6.83441590e-02, -1.16282308e+00, -1.81482798e+02]\n",
      "│              ├─ left:  p(y)=[0.2723919 0.7276081], n=108.63843432584008\n",
      "│              └─ right: p(y)=[0.73038004 0.26961996], n=42.50689747005346\n",
      "└─ right:origin=[ 8.64614483e-09,  6.01500839e-04, -1.37671240e-03, -4.32023079e-03,  1.05557272e-03, -7.34195880e-04, -1.83729598e-03, -2.40281147e-03, -1.54243186e-03,  3.66807251e-04,  7.94200092e-04,  2.42234084e-02], normal=[ 1.97938038e-05,  1.37702870e+00, -3.15173707e+00, -9.89039648e+00,  2.41654514e+00, -1.68081028e+00, -4.20616086e+00, -5.50080755e+00, -3.53112215e+00,  8.39739662e-01,  1.81817921e+00,  5.54551653e+01]\n",
      "   ├─ left: origin=[ 3.84050402e-07,  6.56414851e-03, -8.30359865e-03,  1.45009129e-03, -4.65259525e-03,  8.70453836e-03,  1.60916486e-02,  1.64742214e-02,  1.72444827e-04, -6.89337025e-03,  6.12026561e-03, -1.44131563e-01], normal=[ 1.20022331e-04,  2.05140889e+00, -2.59501686e+00,  4.53178376e-01, -1.45401574e+00,  2.72031739e+00,  5.02891591e+00,  5.14847646e+00,  5.38919633e-02, -2.15429632e+00,  1.91268787e+00, -4.50435833e+01]\n",
      "   │  ├─ left: origin=[-5.12868912e-07,  2.98279112e-02, -3.01468366e-02, -1.23959082e-02,  3.13116726e-02, -2.36875260e-02,  4.37738185e-03,  5.03109523e-02, -6.18708340e-02,  3.55320994e-03,  1.00026954e-02,  3.76147260e-01], normal=[-7.96358708e-05,  4.63153767e+00, -4.68105891e+00, -1.92477829e+00,  4.86192915e+00, -3.67808755e+00,  6.79699251e-01,  7.81204789e+00, -9.60701192e+00,  5.51725717e-01,  1.55317147e+00,  5.84063762e+01]\n",
      "   │  │  ├─ left: origin=[-1.42100569e-07, -2.59847594e-05, -6.15950137e-03,  5.21764724e-03, -9.10928022e-04,  2.36892131e-03,  1.80905477e-03,  4.00181701e-03, -1.27699056e-03,  6.00686941e-04,  1.64775342e-03,  8.57157175e-02], normal=[-1.37723483e-04, -2.51843578e-02, -5.96977190e+00,  5.05692945e+00, -8.82868950e-01,  2.29595206e+00,  1.75333094e+00,  3.87855011e+00, -1.23765576e+00,  5.82184142e-01,  1.59699812e+00,  8.30754392e+01]\n",
      "   │  │  │  ├─ left: origin=[ 9.99687300e-09,  2.51843170e-03,  1.60152356e-03,  1.74414956e-03, -3.60080249e-04, -1.20470150e-04,  1.25385626e-03, -3.07186395e-04,  9.49733379e-04,  4.71939500e-04, -2.90724567e-03, -5.82187206e-02], normal=[-1.86342194e-05, -4.69436880e+00, -2.98524762e+00, -3.25110317e+00,  6.71191317e-01,  2.24556938e-01, -2.33719410e+00,  5.72596918e-01, -1.77030759e+00, -8.79697499e-01,  5.41911991e+00,  1.08519975e+02]\n",
      "   │  │  │  │  ├─ left:  p(y)=[0.73376315 0.26623685], n=72.38899016070238\n",
      "   │  │  │  │  └─ right: p(y)=[0.47909698 0.52090302], n=37.84470294823015\n",
      "   │  │  │  └─ right:origin=[ 4.03640534e-08, -1.90497293e-04,  2.32310048e-04, -2.00046863e-04,  2.67591931e-04,  6.32775752e-04,  5.70602030e-04, -1.68581584e-05, -9.10564193e-05,  3.17045436e-04, -2.23884886e-04,  1.94171429e-02], normal=[-3.03483543e-04,  1.43228414e+00, -1.74665997e+00,  1.50408409e+00, -2.01193241e+00, -4.75762494e+00, -4.29016194e+00,  1.26750740e-01,  6.84622144e-01, -2.38375644e+00,  1.68331406e+00, -1.45990871e+02]\n",
      "   │  │  │     ├─ left:  p(y)=[0.03595372 0.96404628], n=26.32196768554583\n",
      "   │  │  │     └─ right: p(y)=[0.15943225 0.84056775], n=56.349001060012775\n",
      "   │  │  └─ right:origin=[ 2.98624192e-08,  7.03455820e-04, -3.40468166e-04,  8.19632309e-04, -8.34595788e-04, -2.55747106e-04, -5.24157811e-04,  8.84181968e-05,  4.99933039e-03, -2.01651245e-03,  1.48222354e-03, -4.35404361e-02], normal=[ 7.18261150e-05,  1.69197607e+00, -8.18905712e-01,  1.97140774e+00, -2.00739842e+00, -6.15131711e-01, -1.26072235e+00,  2.12666480e-01,  1.20245609e+01, -4.85018491e+00,  3.56509491e+00, -1.04724950e+02]\n",
      "   │  │     ├─ left: origin=[-8.76946941e-09,  2.05504918e-02,  4.58890472e-04, -1.89651997e-04, -2.31624437e-03, -1.08444963e-02, -7.66415357e-03,  2.79235275e-03,  3.31470471e-03, -2.60843864e-03,  2.46339091e-03,  2.76383023e-01], normal=[ 5.94548489e-06, -1.39327288e+01, -3.11116470e-01,  1.28579396e-01,  1.57035680e+00,  7.35230218e+00,  5.19610790e+00, -1.89314659e+00, -2.24728839e+00,  1.76845734e+00, -1.67011854e+00, -1.87380902e+02]\n",
      "   │  │     │  ├─ left:  p(y)=[0.04503712 0.95496288], n=119.02694985291004\n",
      "   │  │     │  └─ right:origin=[-6.27984614e-09, -9.35776062e-05,  1.55838189e-04,  1.01356102e-04, -4.42943834e-05, -6.80036763e-05, -7.26260126e-05, -1.71000843e-04,  2.99466126e-04, -5.97533210e-05,  2.25642709e-04,  9.40096324e-03], normal=[-1.07313682e-04, -1.59910884e+00,  2.66305408e+00,  1.73203232e+00, -7.56928316e-01, -1.16208657e+00, -1.24107576e+00, -2.92216236e+00,  5.11745221e+00, -1.02109968e+00,  3.85591451e+00,  1.60649155e+02]\n",
      "   │  │     │     ├─ left: origin=[-7.08380619e-11,  1.41644435e-03, -2.28563895e-03, -1.62530217e-03,  5.57349350e-03,  1.32220320e-03,  1.33332823e-03,  1.62934642e-03, -2.87583233e-03,  3.36002642e-04,  9.17086685e-04,  1.26318088e-01], normal=[ 1.20851060e-07, -2.41648058e+00,  3.89934286e+00,  2.77279593e+00, -9.50848428e+00, -2.25570342e+00, -2.27468292e+00, -2.77969551e+00,  4.90622382e+00, -5.73226800e-01, -1.56456706e+00, -2.15501023e+02]\n",
      "   │  │     │     │  ├─ left:  p(y)=[0.14960263 0.85039737], n=52.837726089251035\n",
      "   │  │     │     │  └─ right: p(y)=[0.40956014 0.59043986], n=26.128426313195106\n",
      "   │  │     │     └─ right: p(y)=[0.02832272 0.97167728], n=47.88303394827514\n",
      "   │  │     └─ right:origin=[ 3.22221890e-07,  7.94195094e-04,  1.98208624e-03, -2.98434865e-03,  4.00031705e-03,  3.56549135e-04,  8.98905230e-03, -1.07178335e-02,  1.30522267e-03,  3.03738106e-03, -1.38572061e-03, -1.00292710e-01], normal=[ 1.66919629e-04,  4.11414478e-01,  1.02677413e+00, -1.54597309e+00,  2.07227212e+00,  1.84702068e-01,  4.65657152e+00, -5.55212681e+00,  6.76140547e-01,  1.57344531e+00, -7.17840650e-01, -5.19543284e+01]\n",
      "   │  │        ├─ left: origin=[-9.16368676e-09,  9.98508660e-04, -1.16847090e-04,  5.39970542e-04, -1.85656663e-04,  2.83732989e-05,  1.28576633e-03, -4.63610037e-04,  2.92395056e-04,  3.22510921e-04, -7.98340784e-05, -4.57200834e-02], normal=[ 6.98269560e-05, -7.60859926e+00,  8.90370525e-01, -4.11455567e+00,  1.41469694e+00, -2.16203494e-01, -9.79749212e+00,  3.53269143e+00, -2.22803957e+00, -2.45752136e+00,  6.08332741e-01,  3.48385354e+02]\n",
      "   │  │        │  ├─ left:  p(y)=[0.29759612 0.70240388], n=35.45779818710325\n",
      "   │  │        │  └─ right: p(y)=[0.09015117 0.90984883], n=32.83140873101109\n",
      "   │  │        └─ right:origin=[-4.23649208e-06,  4.23809892e-02,  2.63097324e-02, -4.78966172e-02,  5.41466184e-02,  5.10959883e-02, -2.95233525e-02, -7.53885843e-02,  1.97688138e-02,  1.15245972e-01,  7.29016556e-02, -5.04483324e-01], normal=[ 2.04066698e-04, -2.04144097e+00, -1.26730798e+00,  2.30712210e+00, -2.60817710e+00, -2.46123193e+00,  1.42210417e+00,  3.63137689e+00, -9.52239843e-01, -5.55125903e+00, -3.51158454e+00,  2.43003513e+01]\n",
      "   │  │           ├─ left: origin=[-1.57008445e-07,  4.21299994e-03,  9.31249109e-03,  2.50654593e-03,  7.08453532e-03,  5.04331066e-03, -6.26758437e-03,  2.11004572e-03,  3.91019342e-03,  3.68489492e-03,  5.80812834e-03,  1.97727714e-01], normal=[-1.23038321e-04,  3.30148128e+00,  7.29765378e+00,  1.96423322e+00,  5.55173535e+00,  3.95214715e+00, -4.91153875e+00,  1.65351923e+00,  3.06418955e+00,  2.88763631e+00,  4.55148997e+00,  1.54947627e+02]\n",
      "   │  │           │  ├─ left:  p(y)=[0.60060331 0.39939669], n=46.22978850577354\n",
      "   │  │           │  └─ right: p(y)=[0.28703692 0.71296308], n=119.67020972504898\n",
      "   │  │           └─ right: p(y)=[0.19492153 0.80507847], n=38.89222294931677\n",
      "   │  └─ right:origin=[-5.17171615e-07,  3.08441407e-03,  1.61032756e-02,  1.14833625e-02,  1.02280702e-02, -1.08094185e-02,  7.60469528e-03,  1.00003991e-02, -8.05960003e-03,  2.14769741e-02, -4.63295812e-03,  7.86849406e-02], normal=[ 1.86390897e-04, -1.11163623e+00, -5.80369047e+00, -4.13865373e+00, -3.68624095e+00,  3.89576139e+00, -2.74076522e+00, -3.60418728e+00,  2.90471486e+00, -7.74039476e+00,  1.66973823e+00, -2.83583944e+01]\n",
      "   │     ├─ left: origin=[-2.34270996e-07, -1.81740691e-03,  3.25604502e-03, -3.19162663e-04,  1.40509011e-03, -1.13132812e-03, -1.05322956e-03, -2.09989256e-03,  1.64826621e-03, -2.02963192e-04,  3.38845339e-03,  6.09139910e-02], normal=[ 3.17647947e-04,  2.46422129e+00, -4.41487010e+00,  4.32752524e-01, -1.90516110e+00,  1.53396733e+00,  1.42807354e+00,  2.84724347e+00, -2.23488349e+00,  2.75197710e-01, -4.59440257e+00, -8.25932554e+01]\n",
      "   │     │  ├─ left: origin=[-3.06657879e-08,  5.28774003e-03,  3.27592430e-04,  5.85018074e-04,  3.21489771e-03, -3.40997064e-03,  5.15628072e-03, -4.83994183e-03, -1.73534265e-03,  2.26275580e-03, -2.19771526e-03,  1.11862284e-01], normal=[-2.83536415e-05,  4.88905375e+00,  3.02892538e-01,  5.40908741e-01,  2.97250009e+00, -3.15286486e+00,  4.76750623e+00, -4.47501874e+00, -1.60450088e+00,  2.09214800e+00, -2.03201140e+00,  1.03428065e+02]\n",
      "   │     │  │  ├─ left:  p(y)=[0.35415289 0.64584711], n=75.4659105637927\n",
      "   │     │  │  └─ right: p(y)=[0.19263249 0.80736751], n=81.61590224354643\n",
      "   │     │  └─ right:origin=[ 2.66122378e-07, -2.86603013e-03,  5.54921344e-03,  1.62556687e-04,  1.10969654e-02,  1.10448166e-02,  1.29250304e-03,  3.71038216e-03, -1.44490385e-03,  9.11755581e-04, -4.08502025e-04, -1.02935943e-01], normal=[-1.44597602e-04,  1.55725756e+00, -3.01516529e+00, -8.83251807e-02, -6.02953650e+00, -6.00120142e+00, -7.02281564e-01, -2.01603626e+00,  7.85088553e-01, -4.95402423e-01,  2.21959588e-01,  5.59302479e+01]\n",
      "   │     │     ├─ left:  p(y)=[0.84992101 0.15007899], n=58.205283246409834\n",
      "   │     │     └─ right: p(y)=[0.59148647 0.40851353], n=35.52575807463906\n",
      "   │     └─ right:origin=[-1.40706691e-07,  3.51907680e-03, -1.20135290e-02,  3.06244956e-02,  5.61871284e-03, -3.79202426e-03, -1.57378532e-02,  1.32194452e-03,  1.11625864e-02, -3.78216791e-02,  1.45565509e-02,  2.21040908e-01], normal=[ 3.30418206e-05, -8.26376510e-01,  2.82110871e+00, -7.19147811e+00, -1.31942909e+00,  8.90472119e-01,  3.69568296e+00, -3.10429115e-01, -2.62128386e+00,  8.88157576e+00, -3.41828053e+00, -5.19065154e+01]\n",
      "   │        ├─ left: origin=[-9.11525145e-10,  6.15248560e-05,  2.34300432e-05,  1.85225963e-04,  3.40033122e-05, -8.02484503e-05,  1.05371062e-04, -3.32589153e-06, -4.98763125e-05, -1.61980419e-04,  2.39067959e-05, -2.77625135e-03], normal=[ 2.69621032e-05, -1.81985053e+00, -6.93039841e-01, -5.47881927e+00, -1.00578774e+00,  2.37367780e+00, -3.11678230e+00,  9.83769139e-02,  1.47529697e+00,  4.79123674e+00, -7.07141764e-01,  8.21190461e+01]\n",
      "   │        │  ├─ left:  p(y)=[0.88925772 0.11074228], n=328.54399215054\n",
      "   │        │  └─ right:origin=[ 1.41439938e-01,  2.33807240e-01, -1.65348021e-01,  8.00475938e-02,  5.19337468e-02,  4.82476296e-03, -1.50213272e-02, -1.36717885e-02,  1.29357289e-01,  9.19870925e-02,  4.85137534e-03, -1.18737127e+01], normal=[ 3.62589351e+00,  5.99378200e+00, -4.23879086e+00,  2.05206574e+00,  1.33135123e+00,  1.23685551e-01, -3.85080292e-01, -3.50484098e-01,  3.31614791e+00,  2.35814160e+00,  1.24367775e-01, -3.04389400e+02]\n",
      "   │        │     ├─ left: origin=[-2.13913496e-16,  4.66959742e-17, -1.98647954e-16, -3.94023100e-16, -2.37045151e-16,  1.39557180e-16, -3.72757273e-17,  1.58186478e-16,  1.82248866e-16, -8.82093637e-17,  2.14156554e-16,  4.00000000e-02], normal=[ 2.46234103e+00, -5.37513600e-01,  2.28662061e+00,  4.53556819e+00,  2.72860766e+00, -1.60643147e+00,  4.29077897e-01, -1.82087182e+00, -2.09785203e+00,  1.01537088e+00, -2.46513885e+00, -4.60436780e+14]\n",
      "   │        │     │  ├─ left:  p(y)=[0.20280364 0.79719636], n=54.020062013197276\n",
      "   │        │     │  └─ right: p(y)=[0.58579599 0.41420401], n=46.31040346833407\n",
      "   │        │     └─ right: p(y)=[0.89125516 0.10874484], n=40.424082313004824\n",
      "   │        └─ right: p(y)=[0.96608724 0.03391276], n=174.38146691579712\n",
      "   └─ right:origin=[ 4.76376019e-08,  4.77241184e-06, -4.33649720e-05, -1.77350246e-03,  1.38497406e-04, -1.08555093e-04,  1.24960126e-05,  8.41433070e-04, -4.11408822e-04, -5.41382057e-04, -2.84766385e-04,  1.09124534e-02], normal=[-3.46645352e-04, -3.47274908e-02,  3.15554633e-01,  1.29052757e+01, -1.00780644e+00,  7.89924700e-01, -9.09299484e-02, -6.12287040e+00,  2.99370561e+00,  3.93948407e+00,  2.07216442e+00, -7.94068362e+01]\n",
      "      ├─ left: origin=[ 5.92330850e-07, -9.44039314e-04,  4.43272589e-03,  1.89930459e-03,  3.78249704e-03,  4.36380096e-03, -5.64544949e-04, -1.73406093e-03, -2.04643520e-03, -3.75373985e-03, -1.77381779e-04,  7.84861252e-02], normal=[ 8.31166228e-04, -1.32468804e+00,  6.22005768e+00,  2.66512850e+00,  5.30764824e+00,  6.12334134e+00, -7.92176695e-01, -2.43325648e+00, -2.87158405e+00, -5.26729579e+00, -2.48904382e-01,  1.10132735e+02]\n",
      "      │  ├─ left: origin=[ 4.74610660e-06,  5.46102044e-03,  2.42539047e-01,  1.49549304e-01,  1.76711439e-01,  4.00843705e-02, -2.49361147e-02, -1.04049341e-01, -1.20591721e-01, -1.49380395e-01,  9.98682341e-02,  1.25540614e-02], normal=[-1.77197339e-04, -2.03888865e-01, -9.05526935e+00, -5.58346890e+00, -6.59757553e+00, -1.49656221e+00,  9.30997455e-01,  3.88471389e+00,  4.50232870e+00,  5.57716263e+00, -3.72861100e+00, -4.68709714e-01]\n",
      "      │  │  ├─ left: origin=[ 35.44289292,   4.42210576, -10.24283615, -13.75271613, -42.37700887,   1.65794151, -26.79864056,   9.07539236,  32.98164537,  11.80078644,  -7.71512963, 173.30961093], normal=[ 5.50544664,  0.68689842, -1.59104924, -2.13624901, -6.58254285,  0.25753283, -4.16271003,  1.40970684,  5.12313397,  1.83305015, -1.19841331, 26.92068105]\n",
      "      │  │  │  ├─ left:  p(y)=[0.61270217 0.38729783], n=25.359638758731727\n",
      "      │  │  │  └─ right:origin=[-6.73606340e-17,  7.33767629e-17, -3.50858505e-17,  5.07902765e-16, -4.05961763e-16, -9.43193576e-18,  3.75651546e-17, -6.91182631e-17, -5.24391454e-16, -2.93865734e-17,  1.64402177e-16,  2.00000000e-02], normal=[-1.00842495e+00,  1.09848963e+00, -5.25254067e-01,  7.60357777e+00, -6.07746609e+00, -1.41201155e-01,  5.62370584e-01, -1.03473760e+00, -7.85042232e+00, -4.39932821e-01,  2.46118907e+00,  2.99410765e+14]\n",
      "      │  │  │     ├─ left:  p(y)=[0.55125441 0.44874559], n=55.56570199859675\n",
      "      │  │  │     └─ right: p(y)=[0.07611961 0.92388039], n=23.985873903512903\n",
      "      │  │  └─ right:origin=[-1.21316108e-05,  5.35645592e-02,  1.52846773e-01,  3.88749249e-02,  4.22193180e-03, -4.40316743e-02, -6.74116218e-02, -5.80404545e-02, -2.64322699e-02, -3.82083963e-02,  6.12188863e-02, -4.02383756e-01], normal=[ 7.73896900e-04, -3.41697794e+00, -9.75036591e+00, -2.47990020e+00, -2.69324494e-01,  2.80885836e+00,  4.30030654e+00,  3.70250321e+00,  1.68616123e+00,  2.43738115e+00, -3.90526100e+00,  2.56687712e+01]\n",
      "      │  │     ├─ left: origin=[ 5.99937956e-07, -6.02951817e-04,  3.74679662e-03, -1.84039161e-03,  2.90860892e-04, -1.34217758e-03,  3.55593851e-03, -4.75383689e-04,  4.06137193e-04, -1.10478102e-03,  5.97829446e-03,  1.00992527e-01], normal=[ 8.72946418e-04, -8.77331770e-01,  5.45181823e+00, -2.67788235e+00,  4.23220387e-01, -1.95295047e+00,  5.17410801e+00, -6.91712342e-01,  5.90954455e-01, -1.60752395e+00,  8.69878407e+00,  1.46950303e+02]\n",
      "      │  │     │  ├─ left:  p(y)=[0.52887653 0.47112347], n=40.530958568248195\n",
      "      │  │     │  └─ right: p(y)=[0.35069685 0.64930315], n=80.3648909553965\n",
      "      │  │     └─ right:origin=[ 7.95682387e-01,  4.35150294e-01, -8.31365140e-01,  2.44060535e-01, -7.83435561e-03,  4.29969005e-02, -7.77233191e-01, -6.39517604e-01, -4.00219350e-01,  4.82347310e-01, -1.78014226e-01, -2.81476841e+01], normal=[-4.63270479e+00, -2.53357732e+00,  4.84046063e+00, -1.42099464e+00,  4.56140005e-02, -2.50341028e-01,  4.52528796e+00,  3.72346594e+00,  2.33019874e+00, -2.80837270e+00,  1.03645295e+00,  1.63884375e+02]\n",
      "      │  │        ├─ left:  p(y)=[0.23608773 0.76391227], n=66.10921395616592\n",
      "      │  │        └─ right: p(y)=[0.04740049 0.95259951], n=41.66266440952404\n",
      "      │  └─ right:origin=[ 31.74463890,  38.79442724, -69.78844611, 100.57053136,  65.86707178, -43.94701975,  22.15521545,   9.35868591,   0.87077687,  63.45047831,  52.29927934,  26.58478078], normal=[ 2.92490617,  3.57446371, -6.43020881,  9.26642664,  6.06889892, -4.04921630,  2.04135024,  0.86229610,  0.08023215,  5.84623741,  4.81878169,  2.44948413]\n",
      "      │     ├─ left: origin=[ 1.00359585e-01,  5.25788779e-02, -8.83281898e-02,  1.16397224e-01, -3.77969224e-02,  2.30952979e-01, -2.74117829e-01,  2.00554928e-02, -6.27707411e-03, -1.17899468e-02, -4.00095463e-02,  1.00041173e+01], normal=[-3.79965357e+00, -1.99065711e+00,  3.34414019e+00, -4.40684494e+00,  1.43100643e+00, -8.74397112e+00,  1.03782094e+01, -7.59308888e-01,  2.37652508e-01,  4.46372046e-01,  1.51477724e+00, -3.78759837e+02]\n",
      "      │     │  ├─ left:  p(y)=[0.02637771 0.97362229], n=79.25202384556367\n",
      "      │     │  └─ right:origin=[ 4.92883114e-03, -4.32704220e-03, -3.55836960e-02,  4.81879395e-02, -1.08733207e-02,  2.32015660e-02, -1.69554818e-03, -3.77055154e-02, -5.63610493e-03, -1.36955800e-03,  4.01063803e-02, -2.20093350e+00], normal=[-6.53324574e-01,  5.73556473e-01,  4.71667671e+00, -6.38738966e+00,  1.44127632e+00, -3.07540527e+00,  2.24747665e-01,  4.99792732e+00,  7.47074865e-01,  1.81537138e-01, -5.31616587e+00,  2.91737311e+02]\n",
      "      │     │     ├─ left:  p(y)=[0.20629162 0.79370838], n=65.13077995860141\n",
      "      │     │     └─ right: p(y)=[0.03619414 0.96380586], n=95.25750169051068\n",
      "      │     └─ right:origin=[ 1.06681277, -1.42202285,  0.30305634,  0.99151591, -1.90181344,  1.47113962,  0.43538686, -0.53415899,  1.62781584,  5.84130173,  0.23392324, 31.92706878], normal=[ 2.09594515, -2.79381912,  0.59540857,  1.94801097, -3.73645385,  2.89031784,  0.85539562, -1.04945121,  3.19813639, 11.47628567,  0.45958419, 62.72645696]\n",
      "      │        ├─ left: origin=[ 1.06838391e-04, -1.15753212e-02,  1.66935744e-03, -7.21742517e-04,  5.29657752e-05, -3.83270836e-03, -8.14965487e-03,  1.71211435e-03,  3.15699976e-03, -6.73508376e-03, -2.19918041e-03, -2.97792438e-01], normal=[-8.07628571e-02,  8.75018800e+00, -1.26192537e+00,  5.45590278e-01, -4.00386722e-02,  2.89727759e+00,  6.16060765e+00, -1.29424681e+00, -2.38648595e+00,  5.09128413e+00,  1.66243699e+00,  2.25111664e+02]\n",
      "      │        │  ├─ left:  p(y)=[0.30266701 0.69733299], n=98.00525845122219\n",
      "      │        │  └─ right: p(y)=[0.11401895 0.88598105], n=20.768797122994773\n",
      "      │        └─ right:origin=[-1.88371603e-17,  1.22179970e-15,  5.87274995e-16,  1.87605861e-16, -2.73779246e-16,  4.11647158e-17,  1.20487766e-16,  2.73966844e-16, -6.56613113e-16,  4.07635860e-16, -6.64500194e-16,  1.00000000e-02], normal=[-9.33966948e-02,  6.05781613e+00,  2.91177346e+00,  9.30170318e-01, -1.35742736e+00,  2.04099150e-01,  5.97391485e-01,  1.35835749e+00, -3.25555942e+00,  2.02110305e+00, -3.29466442e+00,  4.95810905e+13]\n",
      "      │           ├─ left:  p(y)=[0.16159573 0.83840427], n=44.99023341663698\n",
      "      │           └─ right: p(y)=[0.02203776 0.97796224], n=68.74485063637984\n",
      "      └─ right:origin=[ 1.23055672e-06,  3.96849778e-03,  4.03433274e-02,  1.38340360e-03, -2.07499299e-02, -5.09446288e-04, -1.42082138e-02,  1.44171932e-02,  6.19368695e-04, -2.02529146e-03, -3.66286792e-03,  2.73072429e-01], normal=[ 2.25474800e-04,  7.27147499e-01,  7.39210432e+00,  2.53480919e-01, -3.80200783e+00, -9.33457985e-02, -2.60336976e+00,  2.64166105e+00,  1.13486871e-01, -3.71093976e-01, -6.71146966e-01,  5.00350370e+01]\n",
      "         ├─ left: origin=[ 7.91608978e-07,  7.30608569e-03,  4.46176209e-02,  2.01657511e-02,  1.93973817e-02,  3.41929547e-02,  2.40264904e-02,  8.20092931e-02,  9.64586534e-02,  7.32481846e-02, -3.10455270e-02,  4.37740318e-01], normal=[ 6.31168808e-05,  5.82531720e-01,  3.55746984e+00,  1.60786366e+00,  1.54659973e+00,  2.72628621e+00,  1.91568965e+00,  6.53879746e+00,  7.69087958e+00,  5.84025329e+00, -2.47533426e+00,  3.49020845e+01]\n",
      "         │  ├─ left: origin=[-7.08712792e-08, -2.61942751e-04,  8.58032484e-04,  5.87833251e-04, -3.73266653e-04,  2.91850376e-04,  2.37745289e-03, -3.23838703e-03, -1.07872728e-03, -4.71567350e-04, -1.48540610e-03,  4.12282574e-02], normal=[ 1.79973034e-04,  6.65186689e-01, -2.17891804e+00, -1.49276455e+00,  9.47886542e-01, -7.41135169e-01, -6.03738798e+00,  8.22367458e+00,  2.73935822e+00,  1.19751481e+00,  3.77209280e+00, -1.04696495e+02]\n",
      "         │  │  ├─ left:  p(y)=[0.71490107 0.28509893], n=15.51714141811265\n",
      "         │  │  └─ right: p(y)=[0.93424102 0.06575898], n=18.828606452131453\n",
      "         │  └─ right: p(y)=[0.53320921 0.46679079], n=44.41592919695406\n",
      "         └─ right:origin=[ 3.96196526e-07,  2.56985875e-03,  1.40897805e-03, -2.44640990e-03, -3.26948061e-03,  9.25386305e-04,  8.58848529e-04, -5.50836283e-04, -2.55739613e-05, -1.96004236e-03,  2.20310082e-03, -6.66126811e-02], normal=[-5.58204622e-04, -3.62069563e+00, -1.98512104e+00,  3.44676750e+00,  4.60639875e+00, -1.30378456e+00, -1.21003892e+00,  7.76077877e-01,  3.60313694e-02,  2.76152018e+00, -3.10396730e+00,  9.38511672e+01]\n",
      "            ├─ left: origin=[-4.72385930e-08,  2.29725432e-03, -2.95908674e-03, -1.11237576e-03,  9.73174430e-06,  8.71909434e-05, -8.35273246e-04,  1.15594267e-03, -1.98138902e-03, -2.64241054e-04,  4.46511582e-04,  3.18247768e-02], normal=[-1.00000049e-04,  4.86309035e+00, -6.26413280e+00, -2.35480407e+00,  2.06012679e-02,  1.84575748e-01, -1.76820182e+00,  2.44703149e+00, -4.19443059e+00, -5.59375646e-01,  9.45226718e-01,  6.73703226e+01]\n",
      "            │  ├─ left: origin=[ 7.22195016e-06,  6.89192866e-02, -9.71800425e-02,  3.45470458e-02,  1.06596783e-01, -8.85636971e-02, -5.95845771e-02, -1.02688285e-01, -1.35663442e-02,  3.61328073e-02,  7.56532141e-02,  9.32785631e-02], normal=[ 3.55081310e-04,  3.38855157e+00, -4.77804693e+00,  1.69857310e+00,  5.24103940e+00, -4.35440745e+00, -2.92959231e+00, -5.04887043e+00, -6.67015858e-01,  1.77654017e+00,  3.71963829e+00,  4.58622306e+00]\n",
      "            │  │  ├─ left: origin=[  4.91845851,  -1.62293585,   1.66806837,   4.77391509,  -1.11147593,  -0.59682963,  -1.70529419,  -2.97492785,  -1.90346493,  -3.58818412,   0.09992135, -69.45551934], normal=[  5.26252590,  -1.73646722,   1.78475695,   5.10787104,  -1.18922846,  -0.63858044,  -1.82458687,  -3.18303689,  -2.03662052,  -3.83919308,   0.10691128, -74.31423252]\n",
      "            │  │  │  ├─ left:  p(y)=[0.39686215 0.60313785], n=60.96027808343309\n",
      "            │  │  │  └─ right: p(y)=[0.67836836 0.32163164], n=32.814976486839875\n",
      "            │  │  └─ right:origin=[  2.01781273,  -6.56738541,   0.94152724,  -0.84637209,  12.69778638,   2.76642502,   3.67089599,  -4.47851179,  -5.30194792,  -2.35169371,   2.14452217, -41.61401484], normal=[  2.14137371,  -6.96953998,   0.99918177,  -0.89819977,  13.47533673,   2.93582737,   3.89568371,  -4.75275395,  -5.62661328,  -2.49569994,   2.27584222, -44.16225365]\n",
      "            │  │     ├─ left:  p(y)=[0.36572726 0.63427274], n=12.688765725825132\n",
      "            │  │     └─ right:origin=[ 1.96079430e-02,  1.84138814e-01, -4.02527717e-02,  1.10425181e-01,  7.96387420e-02,  5.96097966e-02,  1.82491035e-02, -6.11605983e-04, -9.65709932e-02,  5.14280357e-02, -4.27561662e-02, -4.42143470e+00], normal=[-5.41190419e-01, -5.08233639e+00,  1.11099948e+00, -3.04779803e+00, -2.19807474e+00, -1.64526441e+00, -5.03685673e-01,  1.68806742e-02,  2.66541454e+00, -1.41944314e+00,  1.18009459e+00,  1.22034121e+02]\n",
      "            │  │        ├─ left:  p(y)=[0.92049632 0.07950368], n=35.308127233356274\n",
      "            │  │        └─ right:origin=[ 6.10896517,  0.65487243,  3.18968039, -2.19019360,  0.36557620,  4.68507582, -0.71959240,  0.58196682,  2.96941172, -2.24700748, -6.54385484, 77.37174229], normal=[ 5.29820982,  0.56796060,  2.76635984, -1.89952060,  0.31705851,  4.06329288, -0.62409122,  0.50473071,  2.57532428, -1.94879440, -5.67538281, 67.10330030]\n",
      "            │  │           ├─ left:  p(y)=[0.68378382 0.31621618], n=20.94864697371844\n",
      "            │  │           └─ right: p(y)=[0.34625067 0.65374933], n=18.913763329414415\n",
      "            │  └─ right: p(y)=[0.72269373 0.27730627], n=62.22684367827955\n",
      "            └─ right:origin=[-1.21292805e-09, -2.07965769e-05, -3.72042525e-04,  3.10115062e-04,  1.56075325e-04,  6.74562398e-04, -1.61394868e-04, -3.92465131e-04,  1.46504194e-04, -4.77239491e-04,  3.71657370e-04,  1.18401254e-02], normal=[ 1.19401591e-05,  2.04723138e-01,  3.66241587e+00, -3.05279706e+00, -1.53641777e+00, -6.64044529e+00,  1.58878378e+00,  3.86345761e+00, -1.44219880e+00,  4.69798308e+00, -3.65862438e+00, -1.16555125e+02]\n",
      "               ├─ left:  p(y)=[0.15042745 0.84957255], n=85.54510465037116\n",
      "               └─ right:origin=[-2.11025909e-06,  1.51461941e-02, -1.99362664e-03,  3.36867226e-02, -3.08894363e-02, -1.08346667e-02,  1.51424752e-02,  6.78242902e-03,  1.00797445e-02, -2.37174289e-02,  5.20880913e-02,  1.95977061e-01], normal=[-2.65526855e-04,  1.90579503e+00, -2.50851383e-01,  4.23868782e+00, -3.88671462e+00, -1.36328994e+00,  1.90532709e+00,  8.53410396e-01,  1.26830059e+00, -2.98428488e+00,  6.55407060e+00,  2.46591392e+01]\n",
      "                  ├─ left:  p(y)=[0.51615045 0.48384955], n=89.95447145252908\n",
      "                  └─ right: p(y)=[0.25898061 0.74101939], n=42.15278004157039\n",
      "\n",
      "Training took 0:00:13.533617\n"
     ]
    },
    {
     "name": "stdout",
     "output_type": "stream",
     "text": [
      "Depth:  10\n",
      "Leaves: 88\n",
      "Train: Log-loss = 0.40668921954159254, accuracy = 84.1400 %\n",
      "Feature importance: [0.00104398 0.01655516 0.04146509 0.04133358 0.02652145 0.03330168\n",
      " 0.03300957 0.04497194 0.02952558 0.050542   0.02540917 0.65632081]\n"
     ]
    }
   ],
   "source": [
    "# train ABR on the entire train data with best hyperparams\n",
    "\n",
    "train = np.array(df)\n",
    "model = AdaptiveBayesianReticulum(\n",
    "    prior=(1, 1),\n",
    "    pruning_factor=1.05,\n",
    "    n_iter=200,\n",
    "    learning_rate_init=0.5,\n",
    "    n_gradient_descent_steps=1,\n",
    "    initial_relative_stiffness=10,\n",
    "    random_state=42)\n",
    "\n",
    "t0 = dt.datetime.utcnow()\n",
    "model.fit(train[:,:-1], train[:,-1], verbose=False)\n",
    "t1 = dt.datetime.utcnow()\n",
    "print('Model:')\n",
    "print(model)\n",
    "print(f'Training took {t1-t0}')\n",
    "\n",
    "# evaluate performance\n",
    "log_loss_train = log_loss(train[:,-1], model.predict_proba(train[:,:-1]))\n",
    "y_pred = model.predict_proba(train[:,:-1])\n",
    "\n",
    "accuracy_train = accuracy_score(train[:,-1], model.predict(train[:,:-1]))\n",
    "info_train = f'Train: Log-loss = {log_loss_train}, accuracy = {100*accuracy_train:.4f} %'\n",
    "print(f'Depth:  {model.get_depth()}')\n",
    "print(f'Leaves: {model.get_n_leaves()}')\n",
    "print(info_train)\n",
    "print(f'Feature importance: {model.feature_importance()}')\n"
   ]
  },
  {
   "cell_type": "code",
   "execution_count": 14,
   "metadata": {},
   "outputs": [
    {
     "name": "stdout",
     "output_type": "stream",
     "text": [
      "Test: Log-loss = 0.4206518568930733, accuracy = 83.7000 %\n"
     ]
    }
   ],
   "source": [
    "# evaluate performance on out of sample data in sheet 2 of excel\n",
    "\n",
    "test_df_ = get_rfq_params(test_df)\n",
    "test = np.array(test_df_)\n",
    "\n",
    "log_loss_test = log_loss(test[:,-1], model.predict_proba(test[:,:-1]))\n",
    "y_pred = model.predict_proba(test[:,:-1])\n",
    "accuracy_test = accuracy_score(test[:,-1], model.predict(test[:,:-1]))\n",
    "info_test = f'Test: Log-loss = {log_loss_test}, accuracy = {100*accuracy_test:.4f} %'\n",
    "print(info_test)"
   ]
  },
  {
   "cell_type": "code",
   "execution_count": 15,
   "metadata": {},
   "outputs": [],
   "source": [
    "# For bid, bond_0, comp=1, cpty_0\n",
    "df_for_plot = df[(df[\"Side_Bid\"]==1) & (df[\"Bond_Bond_0\"]==1) & (df[\"Counterparty_Ctpy_0\"]==1) & (df[\"Competitors\"]==1)]\n",
    "data_for_plot = np.array(df_for_plot)"
   ]
  },
  {
   "cell_type": "code",
   "execution_count": 16,
   "metadata": {},
   "outputs": [
    {
     "data": {
      "image/png": "[encoded data removed]",
      "text/plain": [
       "<Figure size 720x1152 with 2 Axes>"
      ]
     },
     "metadata": {
      "needs_background": "light"
     },
     "output_type": "display_data"
    }
   ],
   "source": [
    "plot_2d_hyperplane(model, data_for_plot[:,:-1], data_for_plot[:,-1], \"\", data_for_plot[:,:-1], data_for_plot[:,-1], \"\")"
   ]
  },
  {
   "cell_type": "code",
   "execution_count": 17,
   "metadata": {},
   "outputs": [],
   "source": [
    "# def plot_2d_hyperplane(\n",
    "#         model: BaseEstimator,\n",
    "#         X_train: np.ndarray,\n",
    "#         y_train: np.ndarray,\n",
    "#         info_train: str,\n",
    "#         X_test: np.ndarray,\n",
    "#         y_test: np.ndarray,\n",
    "#         info_test: str) -> None:\n",
    "#     n_classes = int(np.max(y_train)) + 1\n",
    "#     if n_classes != 2:\n",
    "#         print('Warning: Cannot plot more than 2 classes')\n",
    "#         return"
   ]
  },
  {
   "cell_type": "markdown",
   "metadata": {},
   "source": [
    "### Stacking Model"
   ]
  },
  {
   "cell_type": "code",
   "execution_count": 18,
   "metadata": {},
   "outputs": [],
   "source": [
    "# train_accuracy = []\n",
    "# valid_accuracy = []\n",
    "# params = []\n",
    "\n",
    "# for n in [50, 100, 500]:\n",
    "#     for depth in [5, 10, 15]:\n",
    "            \n",
    "#         params.append({\"Estimators\":n, \"Depth\":depth})\n",
    "\n",
    "#         clf = RandomForestClassifier(random_state=42, n_estimators=n, max_depth=depth).fit(X_train, y_train)\n",
    "#         train_acc = accuracy_score(y_train, clf.predict(X_train))\n",
    "#         train_accuracy.append(train_acc)\n",
    "#         valid_acc = accuracy_score(y_valid, clf.predict(X_valid))\n",
    "#         valid_accuracy.append(valid_acc)\n",
    "\n",
    "#         print({\"Estimators\":n, \"Depth\":depth}, train_acc, valid_acc)\n",
    "\n",
    "# mx_valid = max(valid_accuracy)\n",
    "# print(mx_valid)\n",
    "# param = params[np.argmax(valid_accuracy)]\n",
    "# print(param)"
   ]
  },
  {
   "cell_type": "code",
   "execution_count": 19,
   "metadata": {},
   "outputs": [],
   "source": [
    "# train_accuracy = []\n",
    "# valid_accuracy = []\n",
    "# params = []\n",
    "\n",
    "# for n in [50, 100, 500]:\n",
    "#     for depth in [5, 10, 15]:\n",
    "#         for rate in [0.01, 0.1, 1]:\n",
    "            \n",
    "#             params.append({\"Estimators\":n, \"Depth\":depth, \"Rate\":rate})\n",
    "\n",
    "#             clf = GradientBoostingClassifier(random_state=42, n_estimators=n, \n",
    "#                                              max_depth=depth, learning_rate=rate).fit(X_train, y_train)\n",
    "#             train_acc = accuracy_score(y_train, clf.predict(X_train))\n",
    "#             train_accuracy.append(train_acc)\n",
    "#             valid_acc = accuracy_score(y_valid, clf.predict(X_valid))\n",
    "#             valid_accuracy.append(valid_acc)\n",
    "\n",
    "#             print({\"Estimators\":n, \"Depth\":depth, \"Rate\":rate}, train_acc, valid_acc)\n",
    "\n",
    "# mx_valid = max(valid_accuracy)\n",
    "# print(mx_valid)\n",
    "# param = params[np.argmax(valid_accuracy)]\n",
    "# print(param)"
   ]
  },
  {
   "cell_type": "code",
   "execution_count": 20,
   "metadata": {},
   "outputs": [],
   "source": [
    "# train_accuracy = []\n",
    "# valid_accuracy = []\n",
    "# params = []\n",
    "\n",
    "# for it in [5, 10, 50, 100]:\n",
    "#     for size in [10, 50, 100]:\n",
    "#         for rate in [0.0001, 0.01, 1]:\n",
    "            \n",
    "#             params.append({\"Iter\":it, \"Size\":size, \"Rate\":rate})\n",
    "            \n",
    "#             clf = MLPClassifier(random_state=42, max_iter=it, \n",
    "#                                 hidden_layer_sizes=(size,), learning_rate_init=rate).fit(X_train, y_train)\n",
    "#             train_acc = accuracy_score(y_train, clf.predict(X_train))\n",
    "#             train_accuracy.append(train_acc)\n",
    "#             valid_acc = accuracy_score(y_valid, clf.predict(X_valid))\n",
    "#             valid_accuracy.append(valid_acc)\n",
    "            \n",
    "#             print({\"Iter\":it, \"Size\":size, \"Rate\":rate}, train_acc, valid_acc)\n",
    "\n",
    "# mx_valid = max(valid_accuracy)\n",
    "# print(mx_valid)\n",
    "# param = params[np.argmax(valid_accuracy)]\n",
    "# print(param)"
   ]
  },
  {
   "cell_type": "code",
   "execution_count": 21,
   "metadata": {},
   "outputs": [],
   "source": [
    "# Meta model with stacking classifiers\n",
    "\n",
    "estimators = [\n",
    "    ('rf', RandomForestClassifier(n_estimators=10, random_state=42)),\n",
    "    ('svr', make_pipeline(StandardScaler(),\n",
    "                          LinearSVC(random_state=42))),\n",
    "    ('gb', GradientBoostingClassifier(random_state=42, n_estimators=50, \n",
    "                                             max_depth=5, learning_rate=0.01)),\n",
    "    ('mlp', MLPClassifier(random_state=42, \n",
    "                                hidden_layer_sizes=(50,), learning_rate_init=0.01))\n",
    "]\n",
    "clf = StackingClassifier(\n",
    "    estimators=estimators, final_estimator=LogisticRegression()\n",
    ")"
   ]
  },
  {
   "cell_type": "code",
   "execution_count": 22,
   "metadata": {},
   "outputs": [
    {
     "name": "stderr",
     "output_type": "stream",
     "text": [
      "c:\\users\\joel\\appdata\\local\\programs\\python\\python37\\lib\\site-packages\\sklearn\\svm\\_base.py:1208: ConvergenceWarning: Liblinear failed to converge, increase the number of iterations.\n",
      "  ConvergenceWarning,\n"
     ]
    },
    {
     "data": {
      "text/plain": [
       "StackingClassifier(estimators=[('rf',\n",
       "                                RandomForestClassifier(n_estimators=10,\n",
       "                                                       random_state=42)),\n",
       "                               ('svr',\n",
       "                                Pipeline(steps=[('standardscaler',\n",
       "                                                 StandardScaler()),\n",
       "                                                ('linearsvc',\n",
       "                                                 LinearSVC(random_state=42))])),\n",
       "                               ('gb',\n",
       "                                GradientBoostingClassifier(learning_rate=0.01,\n",
       "                                                           max_depth=5,\n",
       "                                                           n_estimators=50,\n",
       "                                                           random_state=42)),\n",
       "                               ('mlp',\n",
       "                                MLPClassifier(hidden_layer_sizes=(50,),\n",
       "                                              learning_rate_init=0.01,\n",
       "                                              random_state=42))],\n",
       "                   final_estimator=LogisticRegression())"
      ]
     },
     "execution_count": 22,
     "metadata": {},
     "output_type": "execute_result"
    }
   ],
   "source": [
    "clf.fit(train[:,:-1], train[:,-1])"
   ]
  },
  {
   "cell_type": "code",
   "execution_count": 23,
   "metadata": {},
   "outputs": [
    {
     "data": {
      "text/plain": [
       "(0.899, 0.909)"
      ]
     },
     "execution_count": 23,
     "metadata": {},
     "output_type": "execute_result"
    }
   ],
   "source": [
    "accuracy_train = accuracy_score(train[:,-1], clf.predict(train[:,:-1]))\n",
    "accuracy_test = accuracy_score(test[:,-1], clf.predict(test[:,:-1]))\n",
    "accuracy_train, accuracy_test"
   ]
  },
  {
   "cell_type": "code",
   "execution_count": 24,
   "metadata": {},
   "outputs": [
    {
     "data": {
      "image/png": "[encoded data removed]",
      "text/plain": [
       "<Figure size 720x1152 with 2 Axes>"
      ]
     },
     "metadata": {
      "needs_background": "light"
     },
     "output_type": "display_data"
    }
   ],
   "source": [
    "plot_2d_hyperplane(clf, data_for_plot[:,:-1], data_for_plot[:,-1], \"\", data_for_plot[:,:-1], data_for_plot[:,-1], \"\")"
   ]
  },
  {
   "cell_type": "markdown",
   "metadata": {},
   "source": [
    "### Feature importance of each model in stacking"
   ]
  },
  {
   "cell_type": "code",
   "execution_count": 25,
   "metadata": {},
   "outputs": [
    {
     "data": {
      "text/plain": [
       "['predict_proba', 'decision_function', 'predict_proba', 'predict_proba']"
      ]
     },
     "execution_count": 25,
     "metadata": {},
     "output_type": "execute_result"
    }
   ],
   "source": [
    "clf.stack_method_"
   ]
  },
  {
   "cell_type": "code",
   "execution_count": 26,
   "metadata": {},
   "outputs": [
    {
     "data": {
      "text/plain": [
       "array([[1.58593188, 1.33372496, 5.01636086, 1.03060386]])"
      ]
     },
     "execution_count": 26,
     "metadata": {},
     "output_type": "execute_result"
    }
   ],
   "source": [
    "# Meta model Logistic Regression coef\n",
    "clf.final_estimator_.coef_"
   ]
  },
  {
   "cell_type": "code",
   "execution_count": 27,
   "metadata": {},
   "outputs": [
    {
     "data": {
      "text/plain": [
       "array([0.06234515, 0.08822098, 0.01191882, 0.01132335, 0.00556771,\n",
       "       0.00741023, 0.00793771, 0.0120942 , 0.0113928 , 0.03393005,\n",
       "       0.01820963, 0.72964938])"
      ]
     },
     "execution_count": 27,
     "metadata": {},
     "output_type": "execute_result"
    }
   ],
   "source": [
    "# RF classifier feature importance\n",
    "clf.estimators_[0].feature_importances_"
   ]
  },
  {
   "cell_type": "code",
   "execution_count": 28,
   "metadata": {},
   "outputs": [
    {
     "data": {
      "text/plain": [
       "array([[ 0.05620225,  0.30079519, -0.14974622,  0.22482509,  0.01541668,\n",
       "         0.00706703, -0.00706703, -0.05721692,  0.02551234, -0.23015068,\n",
       "         0.12092296, -2.24861405]])"
      ]
     },
     "execution_count": 28,
     "metadata": {},
     "output_type": "execute_result"
    }
   ],
   "source": [
    "# SCV coef\n",
    "clf.estimators_[1][1].coef_"
   ]
  },
  {
   "cell_type": "code",
   "execution_count": 29,
   "metadata": {},
   "outputs": [
    {
     "data": {
      "text/plain": [
       "array([2.05948012e-03, 9.87792116e-02, 3.59683330e-02, 9.86606888e-03,\n",
       "       7.48754235e-04, 0.00000000e+00, 0.00000000e+00, 5.81721860e-03,\n",
       "       2.86173926e-03, 4.97159470e-02, 1.69073684e-02, 7.77275879e-01])"
      ]
     },
     "execution_count": 29,
     "metadata": {},
     "output_type": "execute_result"
    }
   ],
   "source": [
    "# Gradient Boosting classifier feature importance\n",
    "clf.estimators_[2].feature_importances_"
   ]
  },
  {
   "cell_type": "code",
   "execution_count": 30,
   "metadata": {},
   "outputs": [],
   "source": [
    "# clf.estimators_[3].coefs_"
   ]
  },
  {
   "cell_type": "markdown",
   "metadata": {},
   "source": [
    "### Classification metrics"
   ]
  },
  {
   "cell_type": "code",
   "execution_count": 31,
   "metadata": {},
   "outputs": [
    {
     "name": "stdout",
     "output_type": "stream",
     "text": [
      "threshold: 0.4 , accuracy:  0.9\n",
      "FP: 61 , FN: 39\n",
      "Recall: 0.9245647969052224\n",
      "Precision: 0.8868274582560297\n",
      "f1:  0.9053030303030303\n",
      "\n",
      "threshold: 0.42500000000000004 , accuracy:  0.9\n",
      "FP: 57 , FN: 43\n",
      "Recall: 0.9168278529980658\n",
      "Precision: 0.8926553672316384\n",
      "f1:  0.9045801526717557\n",
      "\n",
      "threshold: 0.45000000000000007 , accuracy:  0.901\n",
      "FP: 54 , FN: 45\n",
      "Recall: 0.9129593810444874\n",
      "Precision: 0.8973384030418251\n",
      "f1:  0.9050814956855225\n",
      "\n",
      "threshold: 0.4750000000000001 , accuracy:  0.907\n",
      "FP: 46 , FN: 47\n",
      "Recall: 0.9090909090909091\n",
      "Precision: 0.9108527131782945\n",
      "f1:  0.9099709583736689\n",
      "\n",
      "threshold: 0.5000000000000001 , accuracy:  0.909\n",
      "FP: 40 , FN: 51\n",
      "Recall: 0.9013539651837524\n",
      "Precision: 0.9209486166007905\n",
      "f1:  0.9110459433040078\n",
      "\n",
      "threshold: 0.5250000000000001 , accuracy:  0.911\n",
      "FP: 35 , FN: 54\n",
      "Recall: 0.8955512572533849\n",
      "Precision: 0.929718875502008\n",
      "f1:  0.9123152709359604\n",
      "\n",
      "threshold: 0.5500000000000002 , accuracy:  0.907\n",
      "FP: 35 , FN: 58\n",
      "Recall: 0.8878143133462283\n",
      "Precision: 0.9291497975708503\n",
      "f1:  0.9080118694362018\n",
      "\n",
      "threshold: 0.5750000000000002 , accuracy:  0.907\n",
      "FP: 32 , FN: 61\n",
      "Recall: 0.8820116054158608\n",
      "Precision: 0.9344262295081968\n",
      "f1:  0.9074626865671641\n",
      "\n"
     ]
    }
   ],
   "source": [
    "# Meta model metrics for OOS data with different probability threasholds\n",
    "\n",
    "test_prob = clf.predict_proba(test[:,:-1])\n",
    "thresholds = np.arange(0.4,0.6,0.025)\n",
    "for i in thresholds:\n",
    "    pred = np.where(test_prob[:,1] > i, 1, 0)\n",
    "    tn, fp, fn, tp = confusion_matrix(test[:,-1], pred).ravel()\n",
    "    recall = tp/(tp+fn)\n",
    "    precision = tp/(tp+fp)\n",
    "    f1 = (2*precision*recall)/ (precision + recall)\n",
    "    print(\"threshold:\", i, \", accuracy: \", np.sum(pred == test[:,-1])/len(pred))\n",
    "    print(\"FP:\",fp, \", FN:\", fn)\n",
    "    print(\"Recall:\", recall)\n",
    "    print(\"Precision:\", precision)\n",
    "    print(\"f1: \", f1)\n",
    "    print(\"\")"
   ]
  },
  {
   "cell_type": "code",
   "execution_count": 32,
   "metadata": {},
   "outputs": [
    {
     "name": "stdout",
     "output_type": "stream",
     "text": [
      "threshold: 0.4 , accuracy:  0.827\n",
      "FP: 133 , FN: 40\n",
      "Recall: 0.9226305609284333\n",
      "Precision: 0.7819672131147541\n",
      "f1:  0.8464951197870453\n",
      "\n",
      "threshold: 0.42500000000000004 , accuracy:  0.836\n",
      "FP: 118 , FN: 46\n",
      "Recall: 0.9110251450676983\n",
      "Precision: 0.799660441426146\n",
      "f1:  0.8517179023508137\n",
      "\n",
      "threshold: 0.45000000000000007 , accuracy:  0.842\n",
      "FP: 101 , FN: 57\n",
      "Recall: 0.8897485493230174\n",
      "Precision: 0.8199643493761141\n",
      "f1:  0.8534322820037106\n",
      "\n",
      "threshold: 0.4750000000000001 , accuracy:  0.842\n",
      "FP: 86 , FN: 72\n",
      "Recall: 0.8607350096711799\n",
      "Precision: 0.8380414312617702\n",
      "f1:  0.849236641221374\n",
      "\n",
      "threshold: 0.5000000000000001 , accuracy:  0.837\n",
      "FP: 74 , FN: 89\n",
      "Recall: 0.8278529980657641\n",
      "Precision: 0.852589641434263\n",
      "f1:  0.8400392541707556\n",
      "\n",
      "threshold: 0.5250000000000001 , accuracy:  0.832\n",
      "FP: 66 , FN: 102\n",
      "Recall: 0.8027079303675049\n",
      "Precision: 0.8627858627858628\n",
      "f1:  0.8316633266533067\n",
      "\n",
      "threshold: 0.5500000000000002 , accuracy:  0.832\n",
      "FP: 49 , FN: 119\n",
      "Recall: 0.769825918762089\n",
      "Precision: 0.8903803131991052\n",
      "f1:  0.8257261410788382\n",
      "\n",
      "threshold: 0.5750000000000002 , accuracy:  0.826\n",
      "FP: 29 , FN: 145\n",
      "Recall: 0.7195357833655706\n",
      "Precision: 0.9276807980049875\n",
      "f1:  0.8104575163398691\n",
      "\n"
     ]
    }
   ],
   "source": [
    "# ABR model metrics for OOS data with different probability threasholds\n",
    "\n",
    "test_prob = model.predict_proba(test[:,:-1])\n",
    "thresholds = np.arange(0.4,0.6,0.025)\n",
    "for i in thresholds:\n",
    "    pred = np.where(test_prob[:,1] > i, 1, 0)\n",
    "    tn, fp, fn, tp = confusion_matrix(test[:,-1], pred).ravel()\n",
    "    recall = tp/(tp+fn)\n",
    "    precision = tp/(tp+fp)\n",
    "    f1 = (2*precision*recall)/ (precision + recall)\n",
    "    print(\"threshold:\", i, \", accuracy: \", np.sum(pred == test[:,-1])/len(pred))\n",
    "    print(\"FP:\",fp, \", FN:\", fn)\n",
    "    print(\"Recall:\", recall)\n",
    "    print(\"Precision:\", precision)\n",
    "    print(\"f1: \", f1)\n",
    "    print(\"\")"
   ]
  },
  {
   "cell_type": "markdown",
   "metadata": {},
   "source": [
    "### Utility functions for probability"
   ]
  },
  {
   "cell_type": "code",
   "execution_count": 33,
   "metadata": {},
   "outputs": [],
   "source": [
    "def get_probs_nt(X):\n",
    "    win_probability = model.predict_proba(X)[:,1]\n",
    "    return win_probability"
   ]
  },
  {
   "cell_type": "code",
   "execution_count": 34,
   "metadata": {},
   "outputs": [],
   "source": [
    "def get_probs(X):\n",
    "    win_probability = clf.predict_proba(X)[:,1]\n",
    "    return win_probability"
   ]
  },
  {
   "cell_type": "code",
   "execution_count": null,
   "metadata": {},
   "outputs": [],
   "source": []
  },
  {
   "cell_type": "markdown",
   "metadata": {},
   "source": [
    "# Q2"
   ]
  },
  {
   "cell_type": "code",
   "execution_count": 35,
   "metadata": {},
   "outputs": [],
   "source": [
    "def get_rfq_params_NM(df):\n",
    "    df = pd.concat([df, pd.get_dummies(df[[\"Bond\", \"Side\", \"Counterparty\"]])], axis=1)\n",
    "    df[\"delta_nextmid\"] = df[\"NextMidPrice\"] - df[\"MidPrice\"]\n",
    "    df[\"Notional\"] = np.log10(df[\"Notional\"])\n",
    "#     df['Notional'] = np.where(df['Side'] == 'Ask', df['Notional'] * (-1), df['Notional'])\n",
    "    df = df.drop([\"Bond\",\"Time\",\"Side\",\"Counterparty\",'Traded',\"QuotedPrice\", \"NextMidPrice\", \"MidPrice\"],axis=1)\n",
    "    return df"
   ]
  },
  {
   "cell_type": "code",
   "execution_count": 36,
   "metadata": {},
   "outputs": [
    {
     "name": "stdout",
     "output_type": "stream",
     "text": [
      "Index(['Notional', 'Competitors', 'Bond_Bond_0', 'Bond_Bond_1', 'Bond_Bond_2',\n",
      "       'Side_Bid', 'Side_Offer', 'Counterparty_Ctpy_0', 'Counterparty_Ctpy_1',\n",
      "       'Counterparty_Ctpy_2', 'Counterparty_Ctpy_3', 'delta_nextmid'],\n",
      "      dtype='object')\n"
     ]
    }
   ],
   "source": [
    "train_NM = get_rfq_params_NM(train_df)\n",
    "train,test = get_train_test_data(train_NM,0.8)\n",
    "X_train = train[:, :-1]\n",
    "y_train = train[:, -1]\n",
    "X_test = test[:, :-1]\n",
    "y_test = test[:, -1]"
   ]
  },
  {
   "cell_type": "code",
   "execution_count": 37,
   "metadata": {},
   "outputs": [],
   "source": [
    "def metrics_custom(X, pred, true):\n",
    "#     wrong_side = np.where(((X[:,5]==1) & (pred>true)) | ((X[:,5]==0) & (pred<true)), \"LOST\", \"NO LOSS\")\n",
    "#     count_wrong_side = np.sum(wrong_side == \"LOST\")\n",
    "#     print(\"Trades on the wrong side: \", count_wrong_side)\n",
    "    filter_arr = []\n",
    "    mid_spread_list = []\n",
    "    for i in range(len(pred)):\n",
    "        if X[:,5][i] == 1:\n",
    "            if pred[i] > 0:\n",
    "                mid_spread_list.append(0)\n",
    "            else:\n",
    "                mid_spread_list.append(abs(pred[i]))\n",
    "            if pred[i] > true[i]:\n",
    "                filter_arr.append(False)\n",
    "                continue\n",
    "        else:\n",
    "            if pred[i] < 0:\n",
    "                mid_spread_list.append(0)\n",
    "            else:\n",
    "                mid_spread_list.append(abs(pred[i]))\n",
    "            if pred[i] < true[i]:\n",
    "                filter_arr.append(False)\n",
    "                continue\n",
    "        filter_arr.append(True)\n",
    "    wrong_side_count = len(filter_arr) - np.sum(filter_arr)\n",
    "    mid_spread = np.array(mid_spread_list)\n",
    "    X = X[filter_arr]\n",
    "    pred = pred[filter_arr]\n",
    "    true = true[filter_arr]\n",
    "    mid_spread = mid_spread[filter_arr]\n",
    "    X = np.concatenate((X, mid_spread.reshape(X.shape[0],1)), 1)\n",
    "    prob_temp = get_probs(X)\n",
    "    print(\"Loss:\", wrong_side_count)\n",
    "    print(\"Win prob >0.5: \", np.sum(prob_temp>0.5))\n",
    "    plt.hist(prob_temp, bins=2)\n",
    "    plt.show()"
   ]
  },
  {
   "cell_type": "markdown",
   "metadata": {},
   "source": [
    "### ML approach to predict Next Mid Price"
   ]
  },
  {
   "cell_type": "code",
   "execution_count": 38,
   "metadata": {},
   "outputs": [],
   "source": [
    "# import sklearn.gaussian_process as gp\n",
    "# kernel = gp.kernels.ConstantKernel(1.0, (1e-1, 1e3)) * gp.kernels.RBF(10.0, (1e-3, 1e3))\n",
    "# model_gp = gp.GaussianProcessRegressor(kernel=kernel, n_restarts_optimizer=10, alpha=0.1, normalize_y=True)\n",
    "# model_gp.fit(X_train, y_train)"
   ]
  },
  {
   "cell_type": "code",
   "execution_count": 39,
   "metadata": {},
   "outputs": [],
   "source": [
    "# params = model_gp.kernel_.get_params()\n",
    "# y_pred, std = model_gp.predict(X_test, return_std=True)\n",
    "# gp_MSE = ((y_pred-y_test)**2).mean()"
   ]
  },
  {
   "cell_type": "code",
   "execution_count": 40,
   "metadata": {},
   "outputs": [],
   "source": [
    "# plt.scatter(y_test, y_pred)"
   ]
  },
  {
   "cell_type": "code",
   "execution_count": 41,
   "metadata": {},
   "outputs": [],
   "source": [
    "# from sklearn import linear_model\n",
    "# BayReg = linear_model.BayesianRidge()\n",
    "# BayReg.fit(X_train, y_train)\n",
    "# y_pred, std = BayReg.predict(X_test, return_std=True)\n",
    "# br_MSE = ((y_pred-y_test)**2).mean()\n",
    "# print(br_MSE)\n",
    "# plt.scatter(y_test, y_pred)"
   ]
  },
  {
   "cell_type": "code",
   "execution_count": 42,
   "metadata": {},
   "outputs": [],
   "source": [
    "# from sklearn import linear_model\n",
    "# linreg = linear_model.LinearRegression()\n",
    "# linreg.fit(X_train, y_train)\n",
    "# y_pred = linreg.predict(X_test)\n",
    "# lr_MSE = ((y_pred-y_test)**2).mean()\n",
    "# print(lr_MSE)\n",
    "# plt.scatter(y_test[X_test[:,5]==1], y_pred[X_test[:,5]==1], color='blue')\n",
    "# plt.scatter(y_test[X_test[:,5]==0], y_pred[X_test[:,5]==0], color='red')\n",
    "# # plt.plot([0,0.7],[0,0.7])\n"
   ]
  },
  {
   "cell_type": "code",
   "execution_count": 43,
   "metadata": {},
   "outputs": [],
   "source": [
    "# from sklearn import linear_model\n",
    "# ridge = linear_model.Ridge(2)\n",
    "# ridge.fit(X_train, y_train)\n",
    "# y_pred = ridge.predict(X_test)\n",
    "# r_MSE = ((y_pred-y_test)**2).mean()\n",
    "# print(r_MSE)\n",
    "# plt.scatter(y_test[X_test[:,5]==1], y_pred[X_test[:,5]==1], color='blue')\n",
    "# plt.scatter(y_test[X_test[:,5]==0], y_pred[X_test[:,5]==0], color='red')\n",
    "# # plt.plot([0,0.7],[0,0.7])\n",
    "# print(ridge.coef_)\n",
    "# print(ridge.intercept_)"
   ]
  },
  {
   "cell_type": "code",
   "execution_count": 44,
   "metadata": {},
   "outputs": [],
   "source": [
    "# from xgboost import XGBRegressor\n",
    "# model_xgboost = XGBRegressor(n_estimators=1000, max_depth=7, eta=0.1, subsample=0.7, colsample_bytree=0.8)\n",
    "# model_xgboost.fit(X_train, y_train)\n",
    "# y_pred = model_xgboost.predict(X_test)\n",
    "# xg_MSE = ((y_pred-y_test)**2).mean()\n",
    "# print(xg_MSE)\n",
    "# plt.scatter(y_test, y_pred)"
   ]
  },
  {
   "cell_type": "code",
   "execution_count": 45,
   "metadata": {},
   "outputs": [],
   "source": [
    "# from sklearn.neighbors import KNeighborsRegressor\n",
    "# neigh = KNeighborsRegressor(n_neighbors=25, metric='cosine')\n",
    "# neigh.fit(X_train, y_train)\n",
    "# y_pred = neigh.predict(X_test)\n",
    "# knn_MSE = ((y_pred-y_test)**2).mean()\n",
    "# print(knn_MSE)\n",
    "# plt.scatter(y_test, y_pred)"
   ]
  },
  {
   "cell_type": "code",
   "execution_count": 46,
   "metadata": {},
   "outputs": [
    {
     "name": "stderr",
     "output_type": "stream",
     "text": [
      "c:\\users\\joel\\appdata\\local\\programs\\python\\python37\\lib\\site-packages\\sklearn\\svm\\_base.py:1208: ConvergenceWarning: Liblinear failed to converge, increase the number of iterations.\n",
      "  ConvergenceWarning,\n",
      "c:\\users\\joel\\appdata\\local\\programs\\python\\python37\\lib\\site-packages\\sklearn\\svm\\_base.py:1208: ConvergenceWarning: Liblinear failed to converge, increase the number of iterations.\n",
      "  ConvergenceWarning,\n",
      "c:\\users\\joel\\appdata\\local\\programs\\python\\python37\\lib\\site-packages\\sklearn\\svm\\_base.py:1208: ConvergenceWarning: Liblinear failed to converge, increase the number of iterations.\n",
      "  ConvergenceWarning,\n",
      "c:\\users\\joel\\appdata\\local\\programs\\python\\python37\\lib\\site-packages\\sklearn\\svm\\_base.py:1208: ConvergenceWarning: Liblinear failed to converge, increase the number of iterations.\n",
      "  ConvergenceWarning,\n",
      "c:\\users\\joel\\appdata\\local\\programs\\python\\python37\\lib\\site-packages\\sklearn\\svm\\_base.py:1208: ConvergenceWarning: Liblinear failed to converge, increase the number of iterations.\n",
      "  ConvergenceWarning,\n",
      "c:\\users\\joel\\appdata\\local\\programs\\python\\python37\\lib\\site-packages\\sklearn\\svm\\_base.py:1208: ConvergenceWarning: Liblinear failed to converge, increase the number of iterations.\n",
      "  ConvergenceWarning,\n"
     ]
    },
    {
     "data": {
      "text/plain": [
       "StackingRegressor(estimators=[('rf',\n",
       "                               RandomForestRegressor(n_estimators=10,\n",
       "                                                     random_state=42)),\n",
       "                              ('svr',\n",
       "                               Pipeline(steps=[('standardscaler',\n",
       "                                                StandardScaler()),\n",
       "                                               ('linearsvr',\n",
       "                                                LinearSVR(random_state=42))])),\n",
       "                              ('xgb',\n",
       "                               XGBRegressor(base_score=None, booster=None,\n",
       "                                            colsample_bylevel=None,\n",
       "                                            colsample_bynode=None,\n",
       "                                            colsample_bytree=0.8, eta=0.1,\n",
       "                                            gamma=None, gpu_id=None,\n",
       "                                            importanc...\n",
       "                                            n_estimators=1000, n_jobs=None,\n",
       "                                            num_parallel_tree=None,\n",
       "                                            random_state=None, reg_alpha=None,\n",
       "                                            reg_lambda=None,\n",
       "                                            scale_pos_weight=None,\n",
       "                                            subsample=0.7, tree_method=None,\n",
       "                                            validate_parameters=False,\n",
       "                                            verbosity=None)),\n",
       "                              ('knn',\n",
       "                               Pipeline(steps=[('standardscaler',\n",
       "                                                StandardScaler()),\n",
       "                                               ('kneighborsregressor',\n",
       "                                                KNeighborsRegressor(metric='cosine',\n",
       "                                                                    n_neighbors=25))]))],\n",
       "                  final_estimator=LinearRegression())"
      ]
     },
     "execution_count": 46,
     "metadata": {},
     "output_type": "execute_result"
    }
   ],
   "source": [
    "estimators = [\n",
    "    ('rf', RandomForestRegressor(n_estimators=10,\n",
    "                                          random_state=42)),\n",
    "    ('svr', make_pipeline(StandardScaler(),LinearSVR(random_state=42))),\n",
    "    ('xgb', XGBRegressor(n_estimators=1000, max_depth=7, eta=0.1, subsample=0.7, colsample_bytree=0.8)),\n",
    "    ('knn', make_pipeline(StandardScaler(),KNeighborsRegressor(n_neighbors=25, metric='cosine')))\n",
    "]\n",
    "reg = StackingRegressor(\n",
    "    estimators=estimators,\n",
    "    final_estimator=LinearRegression())\n",
    "reg.fit(train[:,:-1], train[:,-1])"
   ]
  },
  {
   "cell_type": "code",
   "execution_count": 47,
   "metadata": {},
   "outputs": [
    {
     "data": {
      "text/plain": [
       "[<matplotlib.lines.Line2D at 0x2199cf41a48>]"
      ]
     },
     "execution_count": 47,
     "metadata": {},
     "output_type": "execute_result"
    },
    {
     "data": {
      "image/png": "[encoded data removed]",
      "text/plain": [
       "<Figure size 432x288 with 1 Axes>"
      ]
     },
     "metadata": {
      "needs_background": "light"
     },
     "output_type": "display_data"
    }
   ],
   "source": [
    "test_ = np.array(get_rfq_params_NM(test_df))\n",
    "nm_pred_st = reg.predict(test_[:,:-1])\n",
    "plt.scatter(test_[:,-1], nm_pred_st)\n",
    "plt.scatter(y_test[test_[:,5]==1], nm_pred_st[test_[:,5]==1], color='blue')\n",
    "plt.scatter(y_test[test_[:,6]==1], nm_pred_st[test_[:,6]==1], color='red')\n",
    "\n",
    "plt.plot([-0.7,0,0.7],[-0.7,0,0.7])"
   ]
  },
  {
   "cell_type": "code",
   "execution_count": 48,
   "metadata": {
    "scrolled": false
   },
   "outputs": [
    {
     "name": "stdout",
     "output_type": "stream",
     "text": [
      "Loss: 641\n",
      "Win prob >0.5:  340\n"
     ]
    },
    {
     "data": {
      "image/png": "[encoded data removed]",
      "text/plain": [
       "<Figure size 432x288 with 1 Axes>"
      ]
     },
     "metadata": {
      "needs_background": "light"
     },
     "output_type": "display_data"
    }
   ],
   "source": [
    "metrics_custom(test[:,:-1], nm_pred_st, test[:,-1])"
   ]
  },
  {
   "cell_type": "code",
   "execution_count": 49,
   "metadata": {},
   "outputs": [],
   "source": [
    "# from scipy.optimize import minimize\n",
    "# def loss_function(notional, bid, pred, true):\n",
    "#     loss = 0\n",
    "#     for i in range(len(pred)):\n",
    "#         if (bid[i] == 1 and pred[i] > true[i]) or (bid[i] == 0 and pred[i] < true[i]):\n",
    "#             loss = loss + 10 * (notional[i])**10 * (pred[i] - true[i])**2\n",
    "#         else:\n",
    "#             loss = loss + (notional[i])**10 * (pred[i] - true[i])**2\n",
    "#     return loss\n",
    "        \n",
    "\n",
    "# def objective_function(beta, X, Y):\n",
    "#     error = loss_function(X[:,0], X[:,5], np.matmul(X,beta), Y) + np.sum(1000*(beta)**2)\n",
    "#     return(error)\n",
    "\n",
    "\n",
    "# beta_init = BayReg.coef_\n",
    "# result = minimize(objective_function, beta_init, args=(X_train,y_train, ),\n",
    "#                   method='BFGS', options={'maxiter': 5000})"
   ]
  },
  {
   "cell_type": "code",
   "execution_count": null,
   "metadata": {},
   "outputs": [],
   "source": []
  },
  {
   "cell_type": "markdown",
   "metadata": {},
   "source": [
    "### Tune hyperparameters in optimizer"
   ]
  },
  {
   "cell_type": "code",
   "execution_count": null,
   "metadata": {},
   "outputs": [],
   "source": []
  },
  {
   "cell_type": "code",
   "execution_count": 50,
   "metadata": {},
   "outputs": [],
   "source": [
    "X_train_1 = np.concatenate((X_train, np.ones((X_train.shape[0],1))), 1)\n",
    "X_test_1 = np.concatenate((X_test, np.ones((X_test.shape[0],1))), 1)"
   ]
  },
  {
   "cell_type": "code",
   "execution_count": 51,
   "metadata": {},
   "outputs": [],
   "source": [
    "from scipy.optimize import minimize\n",
    "static_count = 0\n",
    "def loss_function(X, pred, true):\n",
    "    loss = 0\n",
    "    mid_spread_list = []\n",
    "    for i in range(len(pred)):\n",
    "        if X[:,5][i] == 1:\n",
    "            if pred[i] > 0:\n",
    "                mid_spread_list.append(0)\n",
    "            else:\n",
    "                mid_spread_list.append(abs(pred[i]))\n",
    "        else:\n",
    "            if pred[i] < 0:\n",
    "                mid_spread_list.append(0)\n",
    "            else:\n",
    "                mid_spread_list.append(abs(pred[i]))\n",
    "    mid_spread = np.array(mid_spread_list)\n",
    "    X = np.concatenate((X, mid_spread.reshape(X.shape[0],1)), 1)\n",
    "    prob = get_probs(X)\n",
    "    for i in range(len(pred)):\n",
    "        if (X[:,5][i] == 1 and pred[i] > true[i]) or (X[:,5][i] == 0 and pred[i] < true[i]):\n",
    "            loss = loss + 1000 * (pred[i] - true[i])**2\n",
    "        elif (X[:,5][i] == 1 and pred[i] < true[i] - 0.1) or (X[:,5][i] == 0 and pred[i] > true[i] + 0.1):\n",
    "            loss = loss + 100 * (1/2**prob[i]) * (pred[i] - true[i])**2\n",
    "        else:\n",
    "            loss = loss + (1/100**prob[i]) *(pred[i] - true[i])**2\n",
    "    return loss\n",
    "\n",
    "\n",
    "\n",
    "def objective_function(beta, X, Y):\n",
    "    error = loss_function(X[:,:-1], np.matmul(X,beta), Y) + np.sum(100*(beta)**2)\n",
    "    global static_count\n",
    "    static_count = static_count + 1\n",
    "    if static_count % 100 == 0:\n",
    "        print(static_count)\n",
    "    return(error)\n",
    "\n",
    "# def constraint(x):\n",
    "#     pred = np.matmul(X_train_1, x)\n",
    "#     print(pred)\n",
    "#     X = np.concatenate((X_train_1[:,:-1], np.abs(pred.reshape(X_train_1.shape[0],1))), 1)\n",
    "#     prob = get_probs(X)\n",
    "#     return prob\n",
    "\n",
    "# cons = [{\"type\": \"ineq\", \"fun\": lambda x: constraint(x) - [0]*X_train_1.shape[0]}]\n"
   ]
  },
  {
   "cell_type": "code",
   "execution_count": 52,
   "metadata": {},
   "outputs": [
    {
     "name": "stdout",
     "output_type": "stream",
     "text": [
      "100\n",
      "200\n",
      "300\n",
      "400\n",
      "500\n",
      "600\n",
      "700\n",
      "800\n",
      "900\n",
      "1000\n",
      "1100\n",
      "1200\n",
      "1300\n",
      "1400\n"
     ]
    }
   ],
   "source": [
    "beta_init = [0] * (X_train.shape[1]+1)\n",
    "result = minimize(objective_function, beta_init, args=(X_train_1, y_train),\n",
    "                  method='BFGS', options={'maxiter': 5000})"
   ]
  },
  {
   "cell_type": "code",
   "execution_count": 53,
   "metadata": {},
   "outputs": [
    {
     "data": {
      "text/plain": [
       "array([ 0.02978042,  0.0288517 , -0.03536972, -0.02315063, -0.00201709,\n",
       "       -0.07262736,  0.06002706, -0.00845733, -0.03382891, -0.0252239 ,\n",
       "       -0.03569574, -0.16013424])"
      ]
     },
     "execution_count": 53,
     "metadata": {},
     "output_type": "execute_result"
    }
   ],
   "source": [
    "beta_hat = result.x\n",
    "beta_hat"
   ]
  },
  {
   "cell_type": "code",
   "execution_count": 54,
   "metadata": {},
   "outputs": [
    {
     "data": {
      "text/plain": [
       "Index(['Notional', 'Competitors', 'Bond_Bond_0', 'Bond_Bond_1', 'Bond_Bond_2',\n",
       "       'Side_Bid', 'Side_Offer', 'Counterparty_Ctpy_0', 'Counterparty_Ctpy_1',\n",
       "       'Counterparty_Ctpy_2', 'Counterparty_Ctpy_3', 'delta_nextmid'],\n",
       "      dtype='object')"
      ]
     },
     "execution_count": 54,
     "metadata": {},
     "output_type": "execute_result"
    }
   ],
   "source": [
    "train_NM.columns"
   ]
  },
  {
   "cell_type": "code",
   "execution_count": 55,
   "metadata": {},
   "outputs": [
    {
     "data": {
      "image/png": "[encoded data removed]",
      "text/plain": [
       "<Figure size 432x288 with 1 Axes>"
      ]
     },
     "metadata": {
      "needs_background": "light"
     },
     "output_type": "display_data"
    }
   ],
   "source": [
    "y_pred = np.matmul(X_test_1, beta_hat)\n",
    "plt.scatter(y_test[X_test[:,5]==1], y_pred[X_test[:,5]==1], color='blue')\n",
    "plt.scatter(y_test[X_test[:,6]==1], y_pred[X_test[:,6]==1], color='red')\n",
    "# plt.scatter(y_test[X_test[:,4]==1], y_pred[X_test[:,4]==1], color='green')\n",
    "\n",
    "plt.plot([-0.7,0,0.7],[-0.7,0,0.7])\n",
    "plt.ylabel(\"Pred Deta NM-M\")\n",
    "plt.xlabel(\"True Delta NM-M\")\n",
    "plt.show()"
   ]
  },
  {
   "cell_type": "code",
   "execution_count": 56,
   "metadata": {},
   "outputs": [
    {
     "data": {
      "image/png": "[encoded data removed]",
      "text/plain": [
       "<Figure size 432x288 with 1 Axes>"
      ]
     },
     "metadata": {
      "needs_background": "light"
     },
     "output_type": "display_data"
    }
   ],
   "source": [
    "y_pred = np.matmul(X_train_1, beta_hat)\n",
    "plt.scatter(y_train[X_train[:,5]==1], y_pred[X_train[:,5]==1], color='blue')\n",
    "plt.scatter(y_train[X_train[:,6]==1], y_pred[X_train[:,6]==1], color='red')\n",
    "plt.plot([-0.7,0,0.7],[-0.7,0,0.7])\n",
    "plt.ylabel(\"Pred Deta NM-M\")\n",
    "plt.xlabel(\"True Delta NM-M\")\n",
    "plt.show()"
   ]
  },
  {
   "cell_type": "code",
   "execution_count": 59,
   "metadata": {},
   "outputs": [],
   "source": [
    "# metrics_custom(X_test, y_pred, y_test)"
   ]
  },
  {
   "cell_type": "code",
   "execution_count": 60,
   "metadata": {},
   "outputs": [
    {
     "data": {
      "text/plain": [
       "Index(['Notional', 'Competitors', 'Bond_Bond_0', 'Bond_Bond_1', 'Bond_Bond_2',\n",
       "       'Side_Bid', 'Side_Offer', 'Counterparty_Ctpy_0', 'Counterparty_Ctpy_1',\n",
       "       'Counterparty_Ctpy_2', 'Counterparty_Ctpy_3', 'delta_nextmid'],\n",
       "      dtype='object')"
      ]
     },
     "execution_count": 60,
     "metadata": {},
     "output_type": "execute_result"
    }
   ],
   "source": [
    "train_NM.columns"
   ]
  },
  {
   "cell_type": "markdown",
   "metadata": {},
   "source": [
    "### test using the best hyperparameters"
   ]
  },
  {
   "cell_type": "code",
   "execution_count": 61,
   "metadata": {},
   "outputs": [],
   "source": [
    "X_train_all = np.array(train_NM)[:,:-1]\n",
    "X_train_all_1 = np.concatenate((X_train_all, np.ones((X_train_all.shape[0],1))), 1)\n",
    "y_train_all = np.array(train_NM)[:,-1]"
   ]
  },
  {
   "cell_type": "code",
   "execution_count": 62,
   "metadata": {},
   "outputs": [
    {
     "data": {
      "text/plain": [
       "(5000, 12)"
      ]
     },
     "execution_count": 62,
     "metadata": {},
     "output_type": "execute_result"
    }
   ],
   "source": [
    "X_train_all_1.shape"
   ]
  },
  {
   "cell_type": "code",
   "execution_count": 63,
   "metadata": {},
   "outputs": [],
   "source": [
    "# static_count=0\n",
    "# beta_init_all = [0] * X_train_all_1.shape[1]\n",
    "# result = minimize(objective_function, beta_init_all, args=(X_train_all_1, y_train_all),\n",
    "#                   method='BFGS', options={'maxiter': 5000})"
   ]
  },
  {
   "cell_type": "code",
   "execution_count": 64,
   "metadata": {},
   "outputs": [],
   "source": [
    "# beta_hat_ = result.x\n",
    "# beta_hat_"
   ]
  },
  {
   "cell_type": "code",
   "execution_count": 65,
   "metadata": {},
   "outputs": [
    {
     "data": {
      "image/png": "[encoded data removed]",
      "text/plain": [
       "<Figure size 432x288 with 1 Axes>"
      ]
     },
     "metadata": {
      "needs_background": "light"
     },
     "output_type": "display_data"
    }
   ],
   "source": [
    "y_pred_train = np.matmul(X_train_all_1, beta_hat)\n",
    "plt.scatter(y_train_all[X_train_all_1[:,5]==1], y_pred_train[X_train_all_1[:,5]==1], color='blue')\n",
    "plt.scatter(y_train_all[X_train_all_1[:,6]==1], y_pred_train[X_train_all_1[:,6]==1], color='red')\n",
    "plt.plot([-0.7,0,0.7],[-0.7,0,0.7])\n",
    "plt.ylabel(\"Pred Deta NM-M\")\n",
    "plt.xlabel(\"True Delta NM-M\")\n",
    "plt.show()"
   ]
  },
  {
   "cell_type": "code",
   "execution_count": 66,
   "metadata": {},
   "outputs": [],
   "source": [
    "test_df_ = get_rfq_params_NM(test_df)\n",
    "X_test_all = np.array(test_df_)[:,:-1]\n",
    "X_test_all_1 = np.concatenate((X_test_all, np.ones((X_test_all.shape[0],1))), 1)\n",
    "y_test_all = np.array(test_df_)[:,-1]"
   ]
  },
  {
   "cell_type": "code",
   "execution_count": 67,
   "metadata": {},
   "outputs": [
    {
     "data": {
      "image/png": "[encoded data removed]",
      "text/plain": [
       "<Figure size 432x288 with 1 Axes>"
      ]
     },
     "metadata": {
      "needs_background": "light"
     },
     "output_type": "display_data"
    }
   ],
   "source": [
    "y_pred = np.matmul(X_test_all_1, beta_hat)\n",
    "plt.scatter(y_test_all[X_test_all_1[:,5]==1], y_pred[X_test_all_1[:,5]==1], color='blue')\n",
    "plt.scatter(y_test_all[X_test_all_1[:,6]==1], y_pred[X_test_all_1[:,6]==1], color='red')\n",
    "plt.plot([-0.7,0,0.7],[-0.7,0,0.7])\n",
    "plt.ylabel(\"Pred Deta NM-M\")\n",
    "plt.xlabel(\"True Delta NM-M\")\n",
    "plt.show()"
   ]
  },
  {
   "cell_type": "code",
   "execution_count": 68,
   "metadata": {},
   "outputs": [
    {
     "name": "stdout",
     "output_type": "stream",
     "text": [
      "Loss: 374\n",
      "Win prob >0.5:  210\n"
     ]
    },
    {
     "data": {
      "image/png": "[encoded data removed]",
      "text/plain": [
       "<Figure size 432x288 with 1 Axes>"
      ]
     },
     "metadata": {
      "needs_background": "light"
     },
     "output_type": "display_data"
    }
   ],
   "source": [
    "metrics_custom(X_test_all, y_pred, y_test_all)"
   ]
  },
  {
   "cell_type": "markdown",
   "metadata": {},
   "source": [
    "## Competition data"
   ]
  },
  {
   "cell_type": "code",
   "execution_count": 69,
   "metadata": {},
   "outputs": [],
   "source": [
    "comp = np.array([[3,3,1,0,0,1,0,1,0,0,0,1]\n",
    "       ,[3,4,0,0,1,1,0,0,0,0,1,1]\n",
    "       ,[5.4771,2,0,1,0,0,1,1,0,0,0,1]\n",
    "       ,[3,1,1,0,0,1,0,0,1,0,0,1]\n",
    "       ,[3,2,0,0,1,0,1,0,1,0,0,1]])"
   ]
  },
  {
   "cell_type": "code",
   "execution_count": 70,
   "metadata": {},
   "outputs": [
    {
     "data": {
      "text/plain": [
       "array([-0.1006923 , -0.06572638,  0.0890986 , -0.18376727,  0.01109148])"
      ]
     },
     "execution_count": 70,
     "metadata": {},
     "output_type": "execute_result"
    }
   ],
   "source": [
    "q = np.matmul(comp, beta_hat)\n",
    "q"
   ]
  },
  {
   "cell_type": "code",
   "execution_count": 71,
   "metadata": {},
   "outputs": [
    {
     "data": {
      "text/plain": [
       "0     82.449308\n",
       "1    110.254274\n",
       "2    126.919099\n",
       "3     82.096233\n",
       "4    110.001091\n",
       "Name: MidPrice, dtype: float64"
      ]
     },
     "execution_count": 71,
     "metadata": {},
     "output_type": "execute_result"
    }
   ],
   "source": [
    "competition_df[\"MidPrice\"] + q"
   ]
  },
  {
   "cell_type": "code",
   "execution_count": 72,
   "metadata": {},
   "outputs": [
    {
     "data": {
      "text/plain": [
       "array([0.04056423, 0.79985198, 0.28061784, 0.00189264, 0.96179576])"
      ]
     },
     "execution_count": 72,
     "metadata": {},
     "output_type": "execute_result"
    }
   ],
   "source": [
    "get_probs(np.concatenate((comp[:,:-1], np.abs(q.reshape(comp.shape[0],1))), 1))"
   ]
  },
  {
   "cell_type": "code",
   "execution_count": 85,
   "metadata": {},
   "outputs": [
    {
     "data": {
      "text/plain": [
       "array([0.21333316, 0.77823846, 0.5424516 , 0.04561353, 0.86988659])"
      ]
     },
     "execution_count": 85,
     "metadata": {},
     "output_type": "execute_result"
    }
   ],
   "source": [
    "tmp = np.array([[3,3,1,0,0,1,0,1,0,0,0,0.05]\n",
    "       ,[3,4,0,0,1,1,0,0,0,0,1,0.07]\n",
    "       ,[5.4771,2,0,1,0,0,1,1,0,0,0,0.08]\n",
    "       ,[3,1,1,0,0,1,0,0,1,0,0,0.08]\n",
    "       ,[3,2,0,0,1,0,1,0,1,0,0,0.04]])\n",
    "get_probs(tmp)"
   ]
  },
  {
   "cell_type": "code",
   "execution_count": null,
   "metadata": {},
   "outputs": [],
   "source": []
  },
  {
   "cell_type": "code",
   "execution_count": null,
   "metadata": {},
   "outputs": [],
   "source": []
  }
 ],
 "metadata": {
  "kernelspec": {
   "display_name": "Python 3",
   "language": "python",
   "name": "python3"
  },
  "language_info": {
   "codemirror_mode": {
    "name": "ipython",
    "version": 3
   },
   "file_extension": ".py",
   "mimetype": "text/x-python",
   "name": "python",
   "nbconvert_exporter": "python",
   "pygments_lexer": "ipython3",
   "version": "3.7.7"
  }
 },
 "nbformat": 4,
 "nbformat_minor": 4
}
